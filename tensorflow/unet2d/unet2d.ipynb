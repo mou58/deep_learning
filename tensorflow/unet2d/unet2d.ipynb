{
  "nbformat": 4,
  "nbformat_minor": 0,
  "metadata": {
    "colab": {
      "provenance": [],
      "collapsed_sections": [],
      "authorship_tag": "ABX9TyOgQE3uHdD//27FND5YjG89",
      "include_colab_link": true
    },
    "kernelspec": {
      "name": "python3",
      "display_name": "Python 3"
    },
    "language_info": {
      "name": "python"
    }
  },
  "cells": [
    {
      "cell_type": "markdown",
      "metadata": {
        "id": "view-in-github",
        "colab_type": "text"
      },
      "source": [
        "<a href=\"https://colab.research.google.com/github/mou58/deep_learning/blob/main/tensorflow/unet2d/unet2d.ipynb\" target=\"_parent\"><img src=\"https://colab.research.google.com/assets/colab-badge.svg\" alt=\"Open In Colab\"/></a>"
      ]
    },
    {
      "cell_type": "code",
      "source": [
        "import tensorflow as tf\n",
        "from tensorflow.keras.layers import Input, Dropout, Activation\n",
        "from tensorflow.keras.layers import Conv2D, MaxPool2D, Conv2DTranspose\n",
        "from tensorflow.keras.layers import BatchNormalization\n",
        "from tensorflow.keras.models import Model\n",
        "import numpy as np"
      ],
      "metadata": {
        "id": "LOw6lpOIHzwk"
      },
      "execution_count": 2,
      "outputs": []
    },
    {
      "cell_type": "markdown",
      "source": [
        "## Parameters"
      ],
      "metadata": {
        "id": "u7n-At4xH5pT"
      }
    },
    {
      "cell_type": "code",
      "source": [
        "INPUT_SIZE = 64 # Input feature width/height\n",
        "INPUT_CHANNEL = 1\n",
        "OUTPUT_SIZE = 64 # Output feature width/height \n",
        "OUTPUT_CHANNEL = 1\n",
        "OUTPUT_CLASSES = 1 # Number of output classes in dataset\n",
        "base_filt = 32\n",
        "dropout_rate = 0.15"
      ],
      "metadata": {
        "id": "ZvPZm4g-H2fE"
      },
      "execution_count": 3,
      "outputs": []
    },
    {
      "cell_type": "markdown",
      "source": [
        "## Build model"
      ],
      "metadata": {
        "id": "BB-x1Kj7H9xs"
      }
    },
    {
      "cell_type": "code",
      "execution_count": 4,
      "metadata": {
        "id": "9hsD-jV9HULS"
      },
      "outputs": [],
      "source": [
        "def conv_batch_relu(tensor, filters, name, kernel = 3, stride = 1):\n",
        "    conv = Conv2D(filters, kernel_size = kernel, strides = stride, padding = 'same',\n",
        "                  kernel_initializer = tf.keras.initializers.TruncatedNormal(stddev=0.1), \n",
        "                  kernel_regularizer = tf.keras.regularizers.l2(0.1), \n",
        "                  name=name)(tensor)\n",
        "    conv = BatchNormalization()(conv)\n",
        "    conv = Activation('relu')(conv)\n",
        "    return conv\n",
        "\n",
        "def upconvolve(tensor, filters, name, kernel = 2, stride = 2, activation = None):\n",
        "    conv = Conv2DTranspose(filters, kernel_size = kernel, strides = stride, padding = 'same', use_bias=False, \n",
        "                                      kernel_initializer = tf.keras.initializers.TruncatedNormal,  \n",
        "                                      kernel_regularizer = tf.keras.regularizers.l2(0.1), name=name)(tensor)\n",
        "    return conv\n",
        "\n",
        "def centre_crop_and_concat(prev_conv, up_conv):\n",
        "    # Needed if the padding is 'valid'\n",
        "    p_c_s = prev_conv.get_shape()\n",
        "    u_c_s = up_conv.get_shape()\n",
        "    offsets =  np.array([0, (p_c_s[1] - u_c_s[1]) // 2, (p_c_s[2] - u_c_s[2]) // 2, 0], dtype = np.int32)\n",
        "    size = np.array([-1, u_c_s[1], u_c_s[2], p_c_s[-1]], np.int32)\n",
        "    prev_conv_crop = tf.slice(prev_conv, offsets, size)\n",
        "    up_concat = tf.concat((prev_conv_crop, up_conv), -1)\n",
        "    return up_concat\n",
        "\n",
        "\n",
        "model_input = Input(shape=(INPUT_SIZE, INPUT_SIZE, INPUT_CHANNEL), name='input_img')\n",
        "# Level zero\n",
        "conv_0_1 = conv_batch_relu(model_input, base_filt, name='conv_0_1')\n",
        "conv_0_2 = conv_batch_relu(conv_0_1, base_filt*2, name='conv_0_2')\n",
        "# Level one\n",
        "max_1_1 = MaxPool2D([2,2], [2,2], name='max_1_1')(conv_0_2) \n",
        "conv_1_1 = conv_batch_relu(max_1_1, base_filt*2, name='conv_1_1')\n",
        "conv_1_2 = conv_batch_relu(conv_1_1, base_filt*4, name='conv_1_2')\n",
        "conv_1_2 = Dropout(rate = dropout_rate, name='conv_1_2_dropout')(conv_1_2)\n",
        "# Level two\n",
        "max_2_1 = MaxPool2D([2,2], [2,2], name='max_2_1')(conv_1_2) \n",
        "conv_2_1 = conv_batch_relu(max_2_1, base_filt*4, name='conv_2_1')\n",
        "conv_2_2 = conv_batch_relu(conv_2_1, base_filt*8, name='conv_2_2')\n",
        "conv_2_2 = Dropout(rate = dropout_rate, name='conv_2_2_dropout')(conv_2_2)\n",
        "# Level three\n",
        "max_3_1 = MaxPool2D([2,2], [2,2], name='max_3_1')(conv_2_2) \n",
        "conv_3_1 = conv_batch_relu(max_3_1, base_filt*8, name='conv_3_1')\n",
        "conv_3_2 = conv_batch_relu(conv_3_1, base_filt*16, name='conv_3_2')\n",
        "conv_3_2 = Dropout(rate = dropout_rate, name='conv_3_2_dropout')(conv_3_2)\n",
        "# Level two\n",
        "up_conv_3_2 = upconvolve(conv_3_2, base_filt*16, kernel = 2, stride = [2,2], name='up_conv_3_2')  \n",
        "concat_2_1 = centre_crop_and_concat(conv_2_2, up_conv_3_2)\n",
        "conv_2_3 = conv_batch_relu(concat_2_1, base_filt*8, name='conv_2_3')\n",
        "conv_2_4 = conv_batch_relu(conv_2_3, base_filt*8, name='conv_2_4')\n",
        "conv_2_4 = Dropout(rate = dropout_rate, name='conv_2_4_dropout')(conv_2_4)\n",
        "# Level one\n",
        "up_conv_2_1 = upconvolve(conv_2_4, base_filt*8, kernel = 2, stride = [2,2], name='up_conv_2_1')\n",
        "concat_1_1 = centre_crop_and_concat(conv_1_2, up_conv_2_1)\n",
        "conv_1_3 = conv_batch_relu(concat_1_1, base_filt*4, name='conv_1_3')\n",
        "conv_1_4 = conv_batch_relu(conv_1_3, base_filt*4, name='conv_1_4')\n",
        "conv_1_4 = Dropout(rate = dropout_rate, name='conv_1_4_dropout')(conv_1_4)\n",
        "# Level zero\n",
        "up_conv_1_0 = upconvolve(conv_1_4, base_filt*4, kernel = 2, stride = [2,2], name='conv_1_0') \n",
        "concat_0_1 = centre_crop_and_concat(conv_0_2, up_conv_1_0)\n",
        "conv_0_3 = conv_batch_relu(concat_0_1, base_filt*2, name='conv_0_3')\n",
        "conv_0_4 = conv_batch_relu(conv_0_3, base_filt*2, name='conv_0_4')\n",
        "conv_0_4 = Dropout(rate = dropout_rate, name='conv_0_4_dropout')(conv_0_4)\n",
        "conv_out = Conv2D(OUTPUT_CLASSES, [1,1], [1,1], padding = 'same', name='conv_out')(conv_0_4)\n",
        "\n",
        "unet2d = Model(inputs=model_input, outputs=conv_out, name='unet3d')\n"
      ]
    },
    {
      "cell_type": "code",
      "source": [
        "print(unet2d.summary())"
      ],
      "metadata": {
        "colab": {
          "base_uri": "https://localhost:8080/"
        },
        "id": "480ePXCEIByr",
        "outputId": "72f78033-1528-403d-8aef-225e7e0a49a7"
      },
      "execution_count": 5,
      "outputs": [
        {
          "output_type": "stream",
          "name": "stdout",
          "text": [
            "Model: \"unet3d\"\n",
            "__________________________________________________________________________________________________\n",
            " Layer (type)                   Output Shape         Param #     Connected to                     \n",
            "==================================================================================================\n",
            " input_img (InputLayer)         [(None, 64, 64, 1)]  0           []                               \n",
            "                                                                                                  \n",
            " conv_0_1 (Conv2D)              (None, 64, 64, 32)   320         ['input_img[0][0]']              \n",
            "                                                                                                  \n",
            " batch_normalization (BatchNorm  (None, 64, 64, 32)  128         ['conv_0_1[0][0]']               \n",
            " alization)                                                                                       \n",
            "                                                                                                  \n",
            " activation (Activation)        (None, 64, 64, 32)   0           ['batch_normalization[0][0]']    \n",
            "                                                                                                  \n",
            " conv_0_2 (Conv2D)              (None, 64, 64, 64)   18496       ['activation[0][0]']             \n",
            "                                                                                                  \n",
            " batch_normalization_1 (BatchNo  (None, 64, 64, 64)  256         ['conv_0_2[0][0]']               \n",
            " rmalization)                                                                                     \n",
            "                                                                                                  \n",
            " activation_1 (Activation)      (None, 64, 64, 64)   0           ['batch_normalization_1[0][0]']  \n",
            "                                                                                                  \n",
            " max_1_1 (MaxPooling2D)         (None, 32, 32, 64)   0           ['activation_1[0][0]']           \n",
            "                                                                                                  \n",
            " conv_1_1 (Conv2D)              (None, 32, 32, 64)   36928       ['max_1_1[0][0]']                \n",
            "                                                                                                  \n",
            " batch_normalization_2 (BatchNo  (None, 32, 32, 64)  256         ['conv_1_1[0][0]']               \n",
            " rmalization)                                                                                     \n",
            "                                                                                                  \n",
            " activation_2 (Activation)      (None, 32, 32, 64)   0           ['batch_normalization_2[0][0]']  \n",
            "                                                                                                  \n",
            " conv_1_2 (Conv2D)              (None, 32, 32, 128)  73856       ['activation_2[0][0]']           \n",
            "                                                                                                  \n",
            " batch_normalization_3 (BatchNo  (None, 32, 32, 128)  512        ['conv_1_2[0][0]']               \n",
            " rmalization)                                                                                     \n",
            "                                                                                                  \n",
            " activation_3 (Activation)      (None, 32, 32, 128)  0           ['batch_normalization_3[0][0]']  \n",
            "                                                                                                  \n",
            " conv_1_2_dropout (Dropout)     (None, 32, 32, 128)  0           ['activation_3[0][0]']           \n",
            "                                                                                                  \n",
            " max_2_1 (MaxPooling2D)         (None, 16, 16, 128)  0           ['conv_1_2_dropout[0][0]']       \n",
            "                                                                                                  \n",
            " conv_2_1 (Conv2D)              (None, 16, 16, 128)  147584      ['max_2_1[0][0]']                \n",
            "                                                                                                  \n",
            " batch_normalization_4 (BatchNo  (None, 16, 16, 128)  512        ['conv_2_1[0][0]']               \n",
            " rmalization)                                                                                     \n",
            "                                                                                                  \n",
            " activation_4 (Activation)      (None, 16, 16, 128)  0           ['batch_normalization_4[0][0]']  \n",
            "                                                                                                  \n",
            " conv_2_2 (Conv2D)              (None, 16, 16, 256)  295168      ['activation_4[0][0]']           \n",
            "                                                                                                  \n",
            " batch_normalization_5 (BatchNo  (None, 16, 16, 256)  1024       ['conv_2_2[0][0]']               \n",
            " rmalization)                                                                                     \n",
            "                                                                                                  \n",
            " activation_5 (Activation)      (None, 16, 16, 256)  0           ['batch_normalization_5[0][0]']  \n",
            "                                                                                                  \n",
            " conv_2_2_dropout (Dropout)     (None, 16, 16, 256)  0           ['activation_5[0][0]']           \n",
            "                                                                                                  \n",
            " max_3_1 (MaxPooling2D)         (None, 8, 8, 256)    0           ['conv_2_2_dropout[0][0]']       \n",
            "                                                                                                  \n",
            " conv_3_1 (Conv2D)              (None, 8, 8, 256)    590080      ['max_3_1[0][0]']                \n",
            "                                                                                                  \n",
            " batch_normalization_6 (BatchNo  (None, 8, 8, 256)   1024        ['conv_3_1[0][0]']               \n",
            " rmalization)                                                                                     \n",
            "                                                                                                  \n",
            " activation_6 (Activation)      (None, 8, 8, 256)    0           ['batch_normalization_6[0][0]']  \n",
            "                                                                                                  \n",
            " conv_3_2 (Conv2D)              (None, 8, 8, 512)    1180160     ['activation_6[0][0]']           \n",
            "                                                                                                  \n",
            " batch_normalization_7 (BatchNo  (None, 8, 8, 512)   2048        ['conv_3_2[0][0]']               \n",
            " rmalization)                                                                                     \n",
            "                                                                                                  \n",
            " activation_7 (Activation)      (None, 8, 8, 512)    0           ['batch_normalization_7[0][0]']  \n",
            "                                                                                                  \n",
            " conv_3_2_dropout (Dropout)     (None, 8, 8, 512)    0           ['activation_7[0][0]']           \n",
            "                                                                                                  \n",
            " tf.slice (TFOpLambda)          (None, 16, 16, 256)  0           ['conv_2_2_dropout[0][0]']       \n",
            "                                                                                                  \n",
            " up_conv_3_2 (Conv2DTranspose)  (None, 16, 16, 512)  1048576     ['conv_3_2_dropout[0][0]']       \n",
            "                                                                                                  \n",
            " tf.concat (TFOpLambda)         (None, 16, 16, 768)  0           ['tf.slice[0][0]',               \n",
            "                                                                  'up_conv_3_2[0][0]']            \n",
            "                                                                                                  \n",
            " conv_2_3 (Conv2D)              (None, 16, 16, 256)  1769728     ['tf.concat[0][0]']              \n",
            "                                                                                                  \n",
            " batch_normalization_8 (BatchNo  (None, 16, 16, 256)  1024       ['conv_2_3[0][0]']               \n",
            " rmalization)                                                                                     \n",
            "                                                                                                  \n",
            " activation_8 (Activation)      (None, 16, 16, 256)  0           ['batch_normalization_8[0][0]']  \n",
            "                                                                                                  \n",
            " conv_2_4 (Conv2D)              (None, 16, 16, 256)  590080      ['activation_8[0][0]']           \n",
            "                                                                                                  \n",
            " batch_normalization_9 (BatchNo  (None, 16, 16, 256)  1024       ['conv_2_4[0][0]']               \n",
            " rmalization)                                                                                     \n",
            "                                                                                                  \n",
            " activation_9 (Activation)      (None, 16, 16, 256)  0           ['batch_normalization_9[0][0]']  \n",
            "                                                                                                  \n",
            " conv_2_4_dropout (Dropout)     (None, 16, 16, 256)  0           ['activation_9[0][0]']           \n",
            "                                                                                                  \n",
            " tf.slice_1 (TFOpLambda)        (None, 32, 32, 128)  0           ['conv_1_2_dropout[0][0]']       \n",
            "                                                                                                  \n",
            " up_conv_2_1 (Conv2DTranspose)  (None, 32, 32, 256)  262144      ['conv_2_4_dropout[0][0]']       \n",
            "                                                                                                  \n",
            " tf.concat_1 (TFOpLambda)       (None, 32, 32, 384)  0           ['tf.slice_1[0][0]',             \n",
            "                                                                  'up_conv_2_1[0][0]']            \n",
            "                                                                                                  \n",
            " conv_1_3 (Conv2D)              (None, 32, 32, 128)  442496      ['tf.concat_1[0][0]']            \n",
            "                                                                                                  \n",
            " batch_normalization_10 (BatchN  (None, 32, 32, 128)  512        ['conv_1_3[0][0]']               \n",
            " ormalization)                                                                                    \n",
            "                                                                                                  \n",
            " activation_10 (Activation)     (None, 32, 32, 128)  0           ['batch_normalization_10[0][0]'] \n",
            "                                                                                                  \n",
            " conv_1_4 (Conv2D)              (None, 32, 32, 128)  147584      ['activation_10[0][0]']          \n",
            "                                                                                                  \n",
            " batch_normalization_11 (BatchN  (None, 32, 32, 128)  512        ['conv_1_4[0][0]']               \n",
            " ormalization)                                                                                    \n",
            "                                                                                                  \n",
            " activation_11 (Activation)     (None, 32, 32, 128)  0           ['batch_normalization_11[0][0]'] \n",
            "                                                                                                  \n",
            " conv_1_4_dropout (Dropout)     (None, 32, 32, 128)  0           ['activation_11[0][0]']          \n",
            "                                                                                                  \n",
            " tf.slice_2 (TFOpLambda)        (None, 64, 64, 64)   0           ['activation_1[0][0]']           \n",
            "                                                                                                  \n",
            " conv_1_0 (Conv2DTranspose)     (None, 64, 64, 128)  65536       ['conv_1_4_dropout[0][0]']       \n",
            "                                                                                                  \n",
            " tf.concat_2 (TFOpLambda)       (None, 64, 64, 192)  0           ['tf.slice_2[0][0]',             \n",
            "                                                                  'conv_1_0[0][0]']               \n",
            "                                                                                                  \n",
            " conv_0_3 (Conv2D)              (None, 64, 64, 64)   110656      ['tf.concat_2[0][0]']            \n",
            "                                                                                                  \n",
            " batch_normalization_12 (BatchN  (None, 64, 64, 64)  256         ['conv_0_3[0][0]']               \n",
            " ormalization)                                                                                    \n",
            "                                                                                                  \n",
            " activation_12 (Activation)     (None, 64, 64, 64)   0           ['batch_normalization_12[0][0]'] \n",
            "                                                                                                  \n",
            " conv_0_4 (Conv2D)              (None, 64, 64, 64)   36928       ['activation_12[0][0]']          \n",
            "                                                                                                  \n",
            " batch_normalization_13 (BatchN  (None, 64, 64, 64)  256         ['conv_0_4[0][0]']               \n",
            " ormalization)                                                                                    \n",
            "                                                                                                  \n",
            " activation_13 (Activation)     (None, 64, 64, 64)   0           ['batch_normalization_13[0][0]'] \n",
            "                                                                                                  \n",
            " conv_0_4_dropout (Dropout)     (None, 64, 64, 64)   0           ['activation_13[0][0]']          \n",
            "                                                                                                  \n",
            " conv_out (Conv2D)              (None, 64, 64, 1)    65          ['conv_0_4_dropout[0][0]']       \n",
            "                                                                                                  \n",
            "==================================================================================================\n",
            "Total params: 6,825,729\n",
            "Trainable params: 6,821,057\n",
            "Non-trainable params: 4,672\n",
            "__________________________________________________________________________________________________\n",
            "None\n"
          ]
        }
      ]
    },
    {
      "cell_type": "markdown",
      "source": [
        "Reference: https://github.com/96imranahmed/3D-Unet <br>\n",
        "The above mentioned repo implemented a 3D U-Net using tensorflow (no Keras). I have changed it for 2d U-Net. Besides, this implementation supports Keras API. "
      ],
      "metadata": {
        "id": "Wa50j1IkI2vU"
      }
    }
  ]
}