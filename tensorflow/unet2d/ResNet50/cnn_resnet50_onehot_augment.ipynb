{
  "cells": [
    {
      "cell_type": "markdown",
      "metadata": {
        "id": "view-in-github",
        "colab_type": "text"
      },
      "source": [
        "<a href=\"https://colab.research.google.com/github/mou58/deep_learning/blob/main/tensorflow/unet2d/ResNet50/cnn_resnet50_onehot_augment.ipynb\" target=\"_parent\"><img src=\"https://colab.research.google.com/assets/colab-badge.svg\" alt=\"Open In Colab\"/></a>"
      ]
    },
    {
      "cell_type": "code",
      "execution_count": null,
      "metadata": {
        "colab": {
          "base_uri": "https://localhost:8080/"
        },
        "id": "0Y_AC6u0a9bs",
        "outputId": "15eb1c00-65bd-489f-9ebc-9c9f4be58252"
      },
      "outputs": [
        {
          "output_type": "stream",
          "name": "stdout",
          "text": [
            "Drive already mounted at /content/drive; to attempt to forcibly remount, call drive.mount(\"/content/drive\", force_remount=True).\n"
          ]
        }
      ],
      "source": [
        "from google.colab import drive\n",
        "drive.mount('/content/drive')"
      ],
      "id": "0Y_AC6u0a9bs"
    },
    {
      "cell_type": "code",
      "execution_count": null,
      "metadata": {
        "id": "07589ece"
      },
      "outputs": [],
      "source": [
        "import tensorflow as tf\n",
        "from tensorflow import keras\n",
        "from tensorflow.keras import layers\n",
        "from tensorflow.keras.layers import Input, Add, Dense, Activation, ZeroPadding2D, BatchNormalization  \n",
        "from tensorflow.keras.layers import Flatten, Conv2D, AveragePooling2D, MaxPooling2D\n",
        "from tensorflow.keras.models import Model\n",
        "from tensorflow.keras import datasets\n",
        "from tensorflow.keras.optimizers import Adam\n",
        "from tensorflow.keras.models import load_model\n",
        "from sklearn.metrics import confusion_matrix , classification_report\n",
        "from sklearn.model_selection import train_test_split\n",
        "import pandas as pd\n",
        "import numpy as np\n",
        "import os\n",
        "import matplotlib.pyplot as plt\n",
        "\n",
        "%matplotlib inline"
      ],
      "id": "07589ece"
    },
    {
      "cell_type": "markdown",
      "metadata": {
        "id": "4ef0e8fe"
      },
      "source": [
        "## Implement the model"
      ],
      "id": "4ef0e8fe"
    },
    {
      "cell_type": "code",
      "execution_count": null,
      "metadata": {
        "id": "25481f96"
      },
      "outputs": [],
      "source": [
        "def conv_block(input, filters:int, kernel_size:tuple=(1,1), strides:tuple=(1,1), \n",
        "               padding:str='valid', bn_axis:int=3, activation:str=None):\n",
        "    \n",
        "    x = Conv2D(filters=filters, kernel_size=kernel_size, strides=strides, padding=padding)(input)\n",
        "    x = BatchNormalization(axis=bn_axis)(x)\n",
        "    \n",
        "    if activation is not None:\n",
        "        x = Activation(activation)(x)\n",
        "    \n",
        "    return x\n",
        "\n",
        "def resnet_block(input, filters:list, kernel_size:tuple=(3,3), strides:tuple=(1,1), convolutional:bool=False):\n",
        "    \n",
        "    x_shortcut = input\n",
        "    \n",
        "    x = conv_block(input, filters[0], (1,1), strides, 'valid', 3, 'relu')\n",
        "    x = conv_block(x, filters[1], kernel_size, (1,1), 'same', 3, 'relu')    \n",
        "    x = conv_block(x, filters[2], (1,1), (1,1), 'valid', 3, None) \n",
        "    \n",
        "    if convolutional: x_shortcut = conv_block(input, filters[2], (1,1), strides, 'valid', 3, None)\n",
        "        \n",
        "    x = Add()([x, x_shortcut])\n",
        "    x = Activation('relu')(x)\n",
        "    \n",
        "    return x\n",
        "\n",
        "def resnet50(input_shape, n_classes, aug=None):\n",
        "    \n",
        "    input = Input(input_shape)\n",
        "\n",
        "    # Stage 0: zero-padding\n",
        "    if aug is not None: # with augmentation\n",
        "      x = aug(input)\n",
        "      x = ZeroPadding2D((3, 3))(x) \n",
        "    else: x = ZeroPadding2D((3, 3))(input) # without augmentation\n",
        "        \n",
        "    # Stage 1\n",
        "    x = conv_block(x, 64, (7,7), (2,2), 'valid', 3, 'relu')    \n",
        "    x = MaxPooling2D((3,3), strides=(2,2))(x)\n",
        "    \n",
        "    # Stage 2\n",
        "    x = resnet_block(x, [64,64,256], (3,3), (1,1), True)\n",
        "    x = resnet_block(x, [64,64,256], (3,3), (1,1), False)\n",
        "    x = resnet_block(x, [64,64,256], (3,3), (1,1), False)\n",
        "    \n",
        "    # Stage 3\n",
        "    x = resnet_block(x, [128,128,512], (3,3), (2,2), True)\n",
        "    x = resnet_block(x, [128,128,512], (3,3), (1,1), False)\n",
        "    x = resnet_block(x, [128,128,512], (3,3), (1,1), False)\n",
        "    x = resnet_block(x, [128,128,512], (3,3), (1,1), False)\n",
        "    \n",
        "    # Stage 4\n",
        "    x = resnet_block(x, [256,256,1024], (3,3), (2,2), True)\n",
        "    x = resnet_block(x, [256,256,1024], (3,3), (1,1), False)\n",
        "    x = resnet_block(x, [256,256,1024], (3,3), (1,1), False)\n",
        "    x = resnet_block(x, [256,256,1024], (3,3), (1,1), False)\n",
        "    x = resnet_block(x, [256,256,1024], (3,3), (1,1), False)\n",
        "    x = resnet_block(x, [256,256,1024], (3,3), (1,1), False)\n",
        "    \n",
        "    # Stage 5\n",
        "    x = resnet_block(x, [512,512,2048], (3,3), (2,2), True)\n",
        "    x = resnet_block(x, [512,512,2048], (3,3), (1,1), False) \n",
        "    x = resnet_block(x, [512,512,2048], (3,3), (1,1), False) \n",
        "    \n",
        "    # Stage 6: Average pooling\n",
        "    x = AveragePooling2D(pool_size=(2, 2), padding='same')(x)\n",
        "    \n",
        "    # Output layer\n",
        "    x = Flatten()(x)\n",
        "    x = Dense(n_classes, activation='softmax', name='fc')(x)\n",
        "\n",
        "    # Create model\n",
        "    model = Model(inputs=input, outputs=x, name='ResNet50')\n",
        "\n",
        "    return model\n"
      ],
      "id": "25481f96"
    },
    {
      "cell_type": "markdown",
      "metadata": {
        "id": "55e2a4c8"
      },
      "source": [
        "## Prepare dataset"
      ],
      "id": "55e2a4c8"
    },
    {
      "cell_type": "code",
      "execution_count": null,
      "metadata": {
        "id": "4d24e2cd"
      },
      "outputs": [],
      "source": [
        "# Download CIFAR-10 dataset\n",
        "(x_, y_), (x_test, y_test) = datasets.cifar10.load_data()"
      ],
      "id": "4d24e2cd"
    },
    {
      "cell_type": "code",
      "execution_count": null,
      "metadata": {
        "id": "668bcd26"
      },
      "outputs": [],
      "source": [
        "# Split dataset\n",
        "x_train, x_val, y_train, y_val = train_test_split(x_, y_, test_size=0.10, random_state=42)"
      ],
      "id": "668bcd26"
    },
    {
      "cell_type": "code",
      "execution_count": null,
      "metadata": {
        "colab": {
          "base_uri": "https://localhost:8080/"
        },
        "id": "f7f99673",
        "outputId": "eacb5c6e-0841-4fe9-a323-31abd6ce18c8"
      },
      "outputs": [
        {
          "output_type": "execute_result",
          "data": {
            "text/plain": [
              "(45000, 1)"
            ]
          },
          "metadata": {},
          "execution_count": 56
        }
      ],
      "source": [
        "y_train.shape"
      ],
      "id": "f7f99673"
    },
    {
      "cell_type": "code",
      "execution_count": null,
      "metadata": {
        "id": "c1342317"
      },
      "outputs": [],
      "source": [
        "# Convert target to 1D\n",
        "y_train = y_train.flatten()\n",
        "y_val = y_val.flatten()\n",
        "y_test = y_test.flatten()"
      ],
      "id": "c1342317"
    },
    {
      "cell_type": "code",
      "execution_count": null,
      "metadata": {
        "colab": {
          "base_uri": "https://localhost:8080/"
        },
        "id": "36ee50e4",
        "outputId": "a90f2533-d3a1-419f-b82c-4b551a3b2650"
      },
      "outputs": [
        {
          "output_type": "execute_result",
          "data": {
            "text/plain": [
              "(45000,)"
            ]
          },
          "metadata": {},
          "execution_count": 58
        }
      ],
      "source": [
        "y_train.shape"
      ],
      "id": "36ee50e4"
    },
    {
      "cell_type": "code",
      "execution_count": null,
      "metadata": {
        "colab": {
          "base_uri": "https://localhost:8080/"
        },
        "id": "90179aeb",
        "outputId": "9de132d2-e000-4d2b-8024-2bb1aeec2e8f"
      },
      "outputs": [
        {
          "output_type": "stream",
          "name": "stdout",
          "text": [
            "Shape of training dataset: (45000, 32, 32, 3)\n",
            "Shape of validation dataset: (5000, 32, 32, 3)\n",
            "Shape of test dataset: (10000, 32, 32, 3)\n"
          ]
        }
      ],
      "source": [
        "# Print shapes\n",
        "print('Shape of training dataset:', x_train.shape)\n",
        "print('Shape of validation dataset:', x_val.shape)\n",
        "print('Shape of test dataset:', x_test.shape)"
      ],
      "id": "90179aeb"
    },
    {
      "cell_type": "code",
      "execution_count": null,
      "metadata": {
        "id": "84209bd6"
      },
      "outputs": [],
      "source": [
        "# Normalize the data\n",
        "x_train = x_train/255.\n",
        "x_val = x_val/255.\n",
        "x_test = x_test/255."
      ],
      "id": "84209bd6"
    },
    {
      "cell_type": "code",
      "execution_count": null,
      "metadata": {
        "colab": {
          "base_uri": "https://localhost:8080/"
        },
        "id": "5935ced8",
        "outputId": "1120d560-618a-49e1-a505-01d5c3bc840e"
      },
      "outputs": [
        {
          "output_type": "stream",
          "name": "stdout",
          "text": [
            "No. of classes:  10\n"
          ]
        }
      ],
      "source": [
        "# Class names\n",
        "class_names = [\"airplane\", \"automobile\", \"bird\", \"cat\", \"deer\", \"dog\", \"frog\", \"horse\", \"ship\", \"truck\"]\n",
        "\n",
        "n_classes = len(class_names)\n",
        "\n",
        "print(\"No. of classes: \", n_classes)"
      ],
      "id": "5935ced8"
    },
    {
      "cell_type": "markdown",
      "metadata": {
        "id": "9a911504"
      },
      "source": [
        "## Visualize samples"
      ],
      "id": "9a911504"
    },
    {
      "cell_type": "code",
      "execution_count": null,
      "metadata": {
        "colab": {
          "base_uri": "https://localhost:8080/",
          "height": 244
        },
        "id": "0b50a24b",
        "outputId": "48a46245-cb8f-48ad-82a6-385c38f6b24b"
      },
      "outputs": [
        {
          "output_type": "execute_result",
          "data": {
            "text/plain": [
              "Text(0.5, 1.0, 'frog')"
            ]
          },
          "metadata": {},
          "execution_count": 62
        },
        {
          "output_type": "display_data",
          "data": {
            "text/plain": [
              "<Figure size 216x216 with 1 Axes>"
            ],
            "image/png": "[encoded data removed]"
          },
          "metadata": {
            "needs_background": "light"
          }
        }
      ],
      "source": [
        "idx = int(np.random.randint(low=0, high=len(x_train), size=1)) # randomly choose an integer\n",
        "\n",
        "plt.figure(figsize=(3,3))\n",
        "plt.imshow(np.squeeze(x_train[idx]))\n",
        "plt.title(class_names[y_train[idx]])"
      ],
      "id": "0b50a24b"
    },
    {
      "cell_type": "markdown",
      "source": [
        "## Convert to onehot"
      ],
      "metadata": {
        "id": "N51HXwHSMKct"
      },
      "id": "N51HXwHSMKct"
    },
    {
      "cell_type": "code",
      "source": [
        "y_train = tf.keras.utils.to_categorical(y_train, num_classes=n_classes)\n",
        "y_val = tf.keras.utils.to_categorical(y_val, num_classes=n_classes)\n",
        "y_test_onehot = tf.keras.utils.to_categorical(y_test, num_classes=n_classes)"
      ],
      "metadata": {
        "id": "TFqJooyeMJFG"
      },
      "id": "TFqJooyeMJFG",
      "execution_count": null,
      "outputs": []
    },
    {
      "cell_type": "markdown",
      "source": [
        "## Augmentation"
      ],
      "metadata": {
        "id": "Z1Q9NriLItch"
      },
      "id": "Z1Q9NriLItch"
    },
    {
      "cell_type": "code",
      "source": [
        "data_augmentation = keras.Sequential(\n",
        "    [\n",
        "      layers.RandomFlip(\"horizontal_and_vertical\"),\n",
        "      layers.RandomRotation(0.2),\n",
        "      # layers.RandomZoom(0.2),\n",
        "    ]\n",
        "  )"
      ],
      "metadata": {
        "id": "BXXBB9-rItDw"
      },
      "id": "BXXBB9-rItDw",
      "execution_count": null,
      "outputs": []
    },
    {
      "cell_type": "markdown",
      "metadata": {
        "id": "86823353"
      },
      "source": [
        "## Build model"
      ],
      "id": "86823353"
    },
    {
      "cell_type": "code",
      "execution_count": null,
      "metadata": {
        "id": "1379a537"
      },
      "outputs": [],
      "source": [
        "model_name = 'resnet50'"
      ],
      "id": "1379a537"
    },
    {
      "cell_type": "code",
      "execution_count": null,
      "metadata": {
        "id": "39a2d4a9"
      },
      "outputs": [],
      "source": [
        "model = resnet50(input_shape=x_train.shape[1:], n_classes=n_classes, aug=data_augmentation)  "
      ],
      "id": "39a2d4a9"
    },
    {
      "cell_type": "code",
      "execution_count": null,
      "metadata": {
        "colab": {
          "base_uri": "https://localhost:8080/"
        },
        "collapsed": true,
        "id": "c944dbd6",
        "outputId": "bd79dbd8-1990-473f-b744-129fbfbc2dcf"
      },
      "outputs": [
        {
          "output_type": "stream",
          "name": "stdout",
          "text": [
            "Model: \"ResNet50\"\n",
            "__________________________________________________________________________________________________\n",
            " Layer (type)                   Output Shape         Param #     Connected to                     \n",
            "==================================================================================================\n",
            " input_4 (InputLayer)           [(None, 32, 32, 3)]  0           []                               \n",
            "                                                                                                  \n",
            " sequential_1 (Sequential)      (None, 32, 32, 3)    0           ['input_4[0][0]']                \n",
            "                                                                                                  \n",
            " zero_padding2d_3 (ZeroPadding2  (None, 38, 38, 3)   0           ['sequential_1[0][0]']           \n",
            " D)                                                                                               \n",
            "                                                                                                  \n",
            " conv2d_159 (Conv2D)            (None, 16, 16, 64)   9472        ['zero_padding2d_3[0][0]']       \n",
            "                                                                                                  \n",
            " batch_normalization_159 (Batch  (None, 16, 16, 64)  256         ['conv2d_159[0][0]']             \n",
            " Normalization)                                                                                   \n",
            "                                                                                                  \n",
            " activation_147 (Activation)    (None, 16, 16, 64)   0           ['batch_normalization_159[0][0]']\n",
            "                                                                                                  \n",
            " max_pooling2d_3 (MaxPooling2D)  (None, 7, 7, 64)    0           ['activation_147[0][0]']         \n",
            "                                                                                                  \n",
            " conv2d_160 (Conv2D)            (None, 7, 7, 64)     4160        ['max_pooling2d_3[0][0]']        \n",
            "                                                                                                  \n",
            " batch_normalization_160 (Batch  (None, 7, 7, 64)    256         ['conv2d_160[0][0]']             \n",
            " Normalization)                                                                                   \n",
            "                                                                                                  \n",
            " activation_148 (Activation)    (None, 7, 7, 64)     0           ['batch_normalization_160[0][0]']\n",
            "                                                                                                  \n",
            " conv2d_161 (Conv2D)            (None, 7, 7, 64)     36928       ['activation_148[0][0]']         \n",
            "                                                                                                  \n",
            " batch_normalization_161 (Batch  (None, 7, 7, 64)    256         ['conv2d_161[0][0]']             \n",
            " Normalization)                                                                                   \n",
            "                                                                                                  \n",
            " activation_149 (Activation)    (None, 7, 7, 64)     0           ['batch_normalization_161[0][0]']\n",
            "                                                                                                  \n",
            " conv2d_162 (Conv2D)            (None, 7, 7, 256)    16640       ['activation_149[0][0]']         \n",
            "                                                                                                  \n",
            " conv2d_163 (Conv2D)            (None, 7, 7, 256)    16640       ['max_pooling2d_3[0][0]']        \n",
            "                                                                                                  \n",
            " batch_normalization_162 (Batch  (None, 7, 7, 256)   1024        ['conv2d_162[0][0]']             \n",
            " Normalization)                                                                                   \n",
            "                                                                                                  \n",
            " batch_normalization_163 (Batch  (None, 7, 7, 256)   1024        ['conv2d_163[0][0]']             \n",
            " Normalization)                                                                                   \n",
            "                                                                                                  \n",
            " add_48 (Add)                   (None, 7, 7, 256)    0           ['batch_normalization_162[0][0]',\n",
            "                                                                  'batch_normalization_163[0][0]']\n",
            "                                                                                                  \n",
            " activation_150 (Activation)    (None, 7, 7, 256)    0           ['add_48[0][0]']                 \n",
            "                                                                                                  \n",
            " conv2d_164 (Conv2D)            (None, 7, 7, 64)     16448       ['activation_150[0][0]']         \n",
            "                                                                                                  \n",
            " batch_normalization_164 (Batch  (None, 7, 7, 64)    256         ['conv2d_164[0][0]']             \n",
            " Normalization)                                                                                   \n",
            "                                                                                                  \n",
            " activation_151 (Activation)    (None, 7, 7, 64)     0           ['batch_normalization_164[0][0]']\n",
            "                                                                                                  \n",
            " conv2d_165 (Conv2D)            (None, 7, 7, 64)     36928       ['activation_151[0][0]']         \n",
            "                                                                                                  \n",
            " batch_normalization_165 (Batch  (None, 7, 7, 64)    256         ['conv2d_165[0][0]']             \n",
            " Normalization)                                                                                   \n",
            "                                                                                                  \n",
            " activation_152 (Activation)    (None, 7, 7, 64)     0           ['batch_normalization_165[0][0]']\n",
            "                                                                                                  \n",
            " conv2d_166 (Conv2D)            (None, 7, 7, 256)    16640       ['activation_152[0][0]']         \n",
            "                                                                                                  \n",
            " batch_normalization_166 (Batch  (None, 7, 7, 256)   1024        ['conv2d_166[0][0]']             \n",
            " Normalization)                                                                                   \n",
            "                                                                                                  \n",
            " add_49 (Add)                   (None, 7, 7, 256)    0           ['batch_normalization_166[0][0]',\n",
            "                                                                  'activation_150[0][0]']         \n",
            "                                                                                                  \n",
            " activation_153 (Activation)    (None, 7, 7, 256)    0           ['add_49[0][0]']                 \n",
            "                                                                                                  \n",
            " conv2d_167 (Conv2D)            (None, 7, 7, 64)     16448       ['activation_153[0][0]']         \n",
            "                                                                                                  \n",
            " batch_normalization_167 (Batch  (None, 7, 7, 64)    256         ['conv2d_167[0][0]']             \n",
            " Normalization)                                                                                   \n",
            "                                                                                                  \n",
            " activation_154 (Activation)    (None, 7, 7, 64)     0           ['batch_normalization_167[0][0]']\n",
            "                                                                                                  \n",
            " conv2d_168 (Conv2D)            (None, 7, 7, 64)     36928       ['activation_154[0][0]']         \n",
            "                                                                                                  \n",
            " batch_normalization_168 (Batch  (None, 7, 7, 64)    256         ['conv2d_168[0][0]']             \n",
            " Normalization)                                                                                   \n",
            "                                                                                                  \n",
            " activation_155 (Activation)    (None, 7, 7, 64)     0           ['batch_normalization_168[0][0]']\n",
            "                                                                                                  \n",
            " conv2d_169 (Conv2D)            (None, 7, 7, 256)    16640       ['activation_155[0][0]']         \n",
            "                                                                                                  \n",
            " batch_normalization_169 (Batch  (None, 7, 7, 256)   1024        ['conv2d_169[0][0]']             \n",
            " Normalization)                                                                                   \n",
            "                                                                                                  \n",
            " add_50 (Add)                   (None, 7, 7, 256)    0           ['batch_normalization_169[0][0]',\n",
            "                                                                  'activation_153[0][0]']         \n",
            "                                                                                                  \n",
            " activation_156 (Activation)    (None, 7, 7, 256)    0           ['add_50[0][0]']                 \n",
            "                                                                                                  \n",
            " conv2d_170 (Conv2D)            (None, 4, 4, 128)    32896       ['activation_156[0][0]']         \n",
            "                                                                                                  \n",
            " batch_normalization_170 (Batch  (None, 4, 4, 128)   512         ['conv2d_170[0][0]']             \n",
            " Normalization)                                                                                   \n",
            "                                                                                                  \n",
            " activation_157 (Activation)    (None, 4, 4, 128)    0           ['batch_normalization_170[0][0]']\n",
            "                                                                                                  \n",
            " conv2d_171 (Conv2D)            (None, 4, 4, 128)    147584      ['activation_157[0][0]']         \n",
            "                                                                                                  \n",
            " batch_normalization_171 (Batch  (None, 4, 4, 128)   512         ['conv2d_171[0][0]']             \n",
            " Normalization)                                                                                   \n",
            "                                                                                                  \n",
            " activation_158 (Activation)    (None, 4, 4, 128)    0           ['batch_normalization_171[0][0]']\n",
            "                                                                                                  \n",
            " conv2d_172 (Conv2D)            (None, 4, 4, 512)    66048       ['activation_158[0][0]']         \n",
            "                                                                                                  \n",
            " conv2d_173 (Conv2D)            (None, 4, 4, 512)    131584      ['activation_156[0][0]']         \n",
            "                                                                                                  \n",
            " batch_normalization_172 (Batch  (None, 4, 4, 512)   2048        ['conv2d_172[0][0]']             \n",
            " Normalization)                                                                                   \n",
            "                                                                                                  \n",
            " batch_normalization_173 (Batch  (None, 4, 4, 512)   2048        ['conv2d_173[0][0]']             \n",
            " Normalization)                                                                                   \n",
            "                                                                                                  \n",
            " add_51 (Add)                   (None, 4, 4, 512)    0           ['batch_normalization_172[0][0]',\n",
            "                                                                  'batch_normalization_173[0][0]']\n",
            "                                                                                                  \n",
            " activation_159 (Activation)    (None, 4, 4, 512)    0           ['add_51[0][0]']                 \n",
            "                                                                                                  \n",
            " conv2d_174 (Conv2D)            (None, 4, 4, 128)    65664       ['activation_159[0][0]']         \n",
            "                                                                                                  \n",
            " batch_normalization_174 (Batch  (None, 4, 4, 128)   512         ['conv2d_174[0][0]']             \n",
            " Normalization)                                                                                   \n",
            "                                                                                                  \n",
            " activation_160 (Activation)    (None, 4, 4, 128)    0           ['batch_normalization_174[0][0]']\n",
            "                                                                                                  \n",
            " conv2d_175 (Conv2D)            (None, 4, 4, 128)    147584      ['activation_160[0][0]']         \n",
            "                                                                                                  \n",
            " batch_normalization_175 (Batch  (None, 4, 4, 128)   512         ['conv2d_175[0][0]']             \n",
            " Normalization)                                                                                   \n",
            "                                                                                                  \n",
            " activation_161 (Activation)    (None, 4, 4, 128)    0           ['batch_normalization_175[0][0]']\n",
            "                                                                                                  \n",
            " conv2d_176 (Conv2D)            (None, 4, 4, 512)    66048       ['activation_161[0][0]']         \n",
            "                                                                                                  \n",
            " batch_normalization_176 (Batch  (None, 4, 4, 512)   2048        ['conv2d_176[0][0]']             \n",
            " Normalization)                                                                                   \n",
            "                                                                                                  \n",
            " add_52 (Add)                   (None, 4, 4, 512)    0           ['batch_normalization_176[0][0]',\n",
            "                                                                  'activation_159[0][0]']         \n",
            "                                                                                                  \n",
            " activation_162 (Activation)    (None, 4, 4, 512)    0           ['add_52[0][0]']                 \n",
            "                                                                                                  \n",
            " conv2d_177 (Conv2D)            (None, 4, 4, 128)    65664       ['activation_162[0][0]']         \n",
            "                                                                                                  \n",
            " batch_normalization_177 (Batch  (None, 4, 4, 128)   512         ['conv2d_177[0][0]']             \n",
            " Normalization)                                                                                   \n",
            "                                                                                                  \n",
            " activation_163 (Activation)    (None, 4, 4, 128)    0           ['batch_normalization_177[0][0]']\n",
            "                                                                                                  \n",
            " conv2d_178 (Conv2D)            (None, 4, 4, 128)    147584      ['activation_163[0][0]']         \n",
            "                                                                                                  \n",
            " batch_normalization_178 (Batch  (None, 4, 4, 128)   512         ['conv2d_178[0][0]']             \n",
            " Normalization)                                                                                   \n",
            "                                                                                                  \n",
            " activation_164 (Activation)    (None, 4, 4, 128)    0           ['batch_normalization_178[0][0]']\n",
            "                                                                                                  \n",
            " conv2d_179 (Conv2D)            (None, 4, 4, 512)    66048       ['activation_164[0][0]']         \n",
            "                                                                                                  \n",
            " batch_normalization_179 (Batch  (None, 4, 4, 512)   2048        ['conv2d_179[0][0]']             \n",
            " Normalization)                                                                                   \n",
            "                                                                                                  \n",
            " add_53 (Add)                   (None, 4, 4, 512)    0           ['batch_normalization_179[0][0]',\n",
            "                                                                  'activation_162[0][0]']         \n",
            "                                                                                                  \n",
            " activation_165 (Activation)    (None, 4, 4, 512)    0           ['add_53[0][0]']                 \n",
            "                                                                                                  \n",
            " conv2d_180 (Conv2D)            (None, 4, 4, 128)    65664       ['activation_165[0][0]']         \n",
            "                                                                                                  \n",
            " batch_normalization_180 (Batch  (None, 4, 4, 128)   512         ['conv2d_180[0][0]']             \n",
            " Normalization)                                                                                   \n",
            "                                                                                                  \n",
            " activation_166 (Activation)    (None, 4, 4, 128)    0           ['batch_normalization_180[0][0]']\n",
            "                                                                                                  \n",
            " conv2d_181 (Conv2D)            (None, 4, 4, 128)    147584      ['activation_166[0][0]']         \n",
            "                                                                                                  \n",
            " batch_normalization_181 (Batch  (None, 4, 4, 128)   512         ['conv2d_181[0][0]']             \n",
            " Normalization)                                                                                   \n",
            "                                                                                                  \n",
            " activation_167 (Activation)    (None, 4, 4, 128)    0           ['batch_normalization_181[0][0]']\n",
            "                                                                                                  \n",
            " conv2d_182 (Conv2D)            (None, 4, 4, 512)    66048       ['activation_167[0][0]']         \n",
            "                                                                                                  \n",
            " batch_normalization_182 (Batch  (None, 4, 4, 512)   2048        ['conv2d_182[0][0]']             \n",
            " Normalization)                                                                                   \n",
            "                                                                                                  \n",
            " add_54 (Add)                   (None, 4, 4, 512)    0           ['batch_normalization_182[0][0]',\n",
            "                                                                  'activation_165[0][0]']         \n",
            "                                                                                                  \n",
            " activation_168 (Activation)    (None, 4, 4, 512)    0           ['add_54[0][0]']                 \n",
            "                                                                                                  \n",
            " conv2d_183 (Conv2D)            (None, 2, 2, 256)    131328      ['activation_168[0][0]']         \n",
            "                                                                                                  \n",
            " batch_normalization_183 (Batch  (None, 2, 2, 256)   1024        ['conv2d_183[0][0]']             \n",
            " Normalization)                                                                                   \n",
            "                                                                                                  \n",
            " activation_169 (Activation)    (None, 2, 2, 256)    0           ['batch_normalization_183[0][0]']\n",
            "                                                                                                  \n",
            " conv2d_184 (Conv2D)            (None, 2, 2, 256)    590080      ['activation_169[0][0]']         \n",
            "                                                                                                  \n",
            " batch_normalization_184 (Batch  (None, 2, 2, 256)   1024        ['conv2d_184[0][0]']             \n",
            " Normalization)                                                                                   \n",
            "                                                                                                  \n",
            " activation_170 (Activation)    (None, 2, 2, 256)    0           ['batch_normalization_184[0][0]']\n",
            "                                                                                                  \n",
            " conv2d_185 (Conv2D)            (None, 2, 2, 1024)   263168      ['activation_170[0][0]']         \n",
            "                                                                                                  \n",
            " conv2d_186 (Conv2D)            (None, 2, 2, 1024)   525312      ['activation_168[0][0]']         \n",
            "                                                                                                  \n",
            " batch_normalization_185 (Batch  (None, 2, 2, 1024)  4096        ['conv2d_185[0][0]']             \n",
            " Normalization)                                                                                   \n",
            "                                                                                                  \n",
            " batch_normalization_186 (Batch  (None, 2, 2, 1024)  4096        ['conv2d_186[0][0]']             \n",
            " Normalization)                                                                                   \n",
            "                                                                                                  \n",
            " add_55 (Add)                   (None, 2, 2, 1024)   0           ['batch_normalization_185[0][0]',\n",
            "                                                                  'batch_normalization_186[0][0]']\n",
            "                                                                                                  \n",
            " activation_171 (Activation)    (None, 2, 2, 1024)   0           ['add_55[0][0]']                 \n",
            "                                                                                                  \n",
            " conv2d_187 (Conv2D)            (None, 2, 2, 256)    262400      ['activation_171[0][0]']         \n",
            "                                                                                                  \n",
            " batch_normalization_187 (Batch  (None, 2, 2, 256)   1024        ['conv2d_187[0][0]']             \n",
            " Normalization)                                                                                   \n",
            "                                                                                                  \n",
            " activation_172 (Activation)    (None, 2, 2, 256)    0           ['batch_normalization_187[0][0]']\n",
            "                                                                                                  \n",
            " conv2d_188 (Conv2D)            (None, 2, 2, 256)    590080      ['activation_172[0][0]']         \n",
            "                                                                                                  \n",
            " batch_normalization_188 (Batch  (None, 2, 2, 256)   1024        ['conv2d_188[0][0]']             \n",
            " Normalization)                                                                                   \n",
            "                                                                                                  \n",
            " activation_173 (Activation)    (None, 2, 2, 256)    0           ['batch_normalization_188[0][0]']\n",
            "                                                                                                  \n",
            " conv2d_189 (Conv2D)            (None, 2, 2, 1024)   263168      ['activation_173[0][0]']         \n",
            "                                                                                                  \n",
            " batch_normalization_189 (Batch  (None, 2, 2, 1024)  4096        ['conv2d_189[0][0]']             \n",
            " Normalization)                                                                                   \n",
            "                                                                                                  \n",
            " add_56 (Add)                   (None, 2, 2, 1024)   0           ['batch_normalization_189[0][0]',\n",
            "                                                                  'activation_171[0][0]']         \n",
            "                                                                                                  \n",
            " activation_174 (Activation)    (None, 2, 2, 1024)   0           ['add_56[0][0]']                 \n",
            "                                                                                                  \n",
            " conv2d_190 (Conv2D)            (None, 2, 2, 256)    262400      ['activation_174[0][0]']         \n",
            "                                                                                                  \n",
            " batch_normalization_190 (Batch  (None, 2, 2, 256)   1024        ['conv2d_190[0][0]']             \n",
            " Normalization)                                                                                   \n",
            "                                                                                                  \n",
            " activation_175 (Activation)    (None, 2, 2, 256)    0           ['batch_normalization_190[0][0]']\n",
            "                                                                                                  \n",
            " conv2d_191 (Conv2D)            (None, 2, 2, 256)    590080      ['activation_175[0][0]']         \n",
            "                                                                                                  \n",
            " batch_normalization_191 (Batch  (None, 2, 2, 256)   1024        ['conv2d_191[0][0]']             \n",
            " Normalization)                                                                                   \n",
            "                                                                                                  \n",
            " activation_176 (Activation)    (None, 2, 2, 256)    0           ['batch_normalization_191[0][0]']\n",
            "                                                                                                  \n",
            " conv2d_192 (Conv2D)            (None, 2, 2, 1024)   263168      ['activation_176[0][0]']         \n",
            "                                                                                                  \n",
            " batch_normalization_192 (Batch  (None, 2, 2, 1024)  4096        ['conv2d_192[0][0]']             \n",
            " Normalization)                                                                                   \n",
            "                                                                                                  \n",
            " add_57 (Add)                   (None, 2, 2, 1024)   0           ['batch_normalization_192[0][0]',\n",
            "                                                                  'activation_174[0][0]']         \n",
            "                                                                                                  \n",
            " activation_177 (Activation)    (None, 2, 2, 1024)   0           ['add_57[0][0]']                 \n",
            "                                                                                                  \n",
            " conv2d_193 (Conv2D)            (None, 2, 2, 256)    262400      ['activation_177[0][0]']         \n",
            "                                                                                                  \n",
            " batch_normalization_193 (Batch  (None, 2, 2, 256)   1024        ['conv2d_193[0][0]']             \n",
            " Normalization)                                                                                   \n",
            "                                                                                                  \n",
            " activation_178 (Activation)    (None, 2, 2, 256)    0           ['batch_normalization_193[0][0]']\n",
            "                                                                                                  \n",
            " conv2d_194 (Conv2D)            (None, 2, 2, 256)    590080      ['activation_178[0][0]']         \n",
            "                                                                                                  \n",
            " batch_normalization_194 (Batch  (None, 2, 2, 256)   1024        ['conv2d_194[0][0]']             \n",
            " Normalization)                                                                                   \n",
            "                                                                                                  \n",
            " activation_179 (Activation)    (None, 2, 2, 256)    0           ['batch_normalization_194[0][0]']\n",
            "                                                                                                  \n",
            " conv2d_195 (Conv2D)            (None, 2, 2, 1024)   263168      ['activation_179[0][0]']         \n",
            "                                                                                                  \n",
            " batch_normalization_195 (Batch  (None, 2, 2, 1024)  4096        ['conv2d_195[0][0]']             \n",
            " Normalization)                                                                                   \n",
            "                                                                                                  \n",
            " add_58 (Add)                   (None, 2, 2, 1024)   0           ['batch_normalization_195[0][0]',\n",
            "                                                                  'activation_177[0][0]']         \n",
            "                                                                                                  \n",
            " activation_180 (Activation)    (None, 2, 2, 1024)   0           ['add_58[0][0]']                 \n",
            "                                                                                                  \n",
            " conv2d_196 (Conv2D)            (None, 2, 2, 256)    262400      ['activation_180[0][0]']         \n",
            "                                                                                                  \n",
            " batch_normalization_196 (Batch  (None, 2, 2, 256)   1024        ['conv2d_196[0][0]']             \n",
            " Normalization)                                                                                   \n",
            "                                                                                                  \n",
            " activation_181 (Activation)    (None, 2, 2, 256)    0           ['batch_normalization_196[0][0]']\n",
            "                                                                                                  \n",
            " conv2d_197 (Conv2D)            (None, 2, 2, 256)    590080      ['activation_181[0][0]']         \n",
            "                                                                                                  \n",
            " batch_normalization_197 (Batch  (None, 2, 2, 256)   1024        ['conv2d_197[0][0]']             \n",
            " Normalization)                                                                                   \n",
            "                                                                                                  \n",
            " activation_182 (Activation)    (None, 2, 2, 256)    0           ['batch_normalization_197[0][0]']\n",
            "                                                                                                  \n",
            " conv2d_198 (Conv2D)            (None, 2, 2, 1024)   263168      ['activation_182[0][0]']         \n",
            "                                                                                                  \n",
            " batch_normalization_198 (Batch  (None, 2, 2, 1024)  4096        ['conv2d_198[0][0]']             \n",
            " Normalization)                                                                                   \n",
            "                                                                                                  \n",
            " add_59 (Add)                   (None, 2, 2, 1024)   0           ['batch_normalization_198[0][0]',\n",
            "                                                                  'activation_180[0][0]']         \n",
            "                                                                                                  \n",
            " activation_183 (Activation)    (None, 2, 2, 1024)   0           ['add_59[0][0]']                 \n",
            "                                                                                                  \n",
            " conv2d_199 (Conv2D)            (None, 2, 2, 256)    262400      ['activation_183[0][0]']         \n",
            "                                                                                                  \n",
            " batch_normalization_199 (Batch  (None, 2, 2, 256)   1024        ['conv2d_199[0][0]']             \n",
            " Normalization)                                                                                   \n",
            "                                                                                                  \n",
            " activation_184 (Activation)    (None, 2, 2, 256)    0           ['batch_normalization_199[0][0]']\n",
            "                                                                                                  \n",
            " conv2d_200 (Conv2D)            (None, 2, 2, 256)    590080      ['activation_184[0][0]']         \n",
            "                                                                                                  \n",
            " batch_normalization_200 (Batch  (None, 2, 2, 256)   1024        ['conv2d_200[0][0]']             \n",
            " Normalization)                                                                                   \n",
            "                                                                                                  \n",
            " activation_185 (Activation)    (None, 2, 2, 256)    0           ['batch_normalization_200[0][0]']\n",
            "                                                                                                  \n",
            " conv2d_201 (Conv2D)            (None, 2, 2, 1024)   263168      ['activation_185[0][0]']         \n",
            "                                                                                                  \n",
            " batch_normalization_201 (Batch  (None, 2, 2, 1024)  4096        ['conv2d_201[0][0]']             \n",
            " Normalization)                                                                                   \n",
            "                                                                                                  \n",
            " add_60 (Add)                   (None, 2, 2, 1024)   0           ['batch_normalization_201[0][0]',\n",
            "                                                                  'activation_183[0][0]']         \n",
            "                                                                                                  \n",
            " activation_186 (Activation)    (None, 2, 2, 1024)   0           ['add_60[0][0]']                 \n",
            "                                                                                                  \n",
            " conv2d_202 (Conv2D)            (None, 1, 1, 512)    524800      ['activation_186[0][0]']         \n",
            "                                                                                                  \n",
            " batch_normalization_202 (Batch  (None, 1, 1, 512)   2048        ['conv2d_202[0][0]']             \n",
            " Normalization)                                                                                   \n",
            "                                                                                                  \n",
            " activation_187 (Activation)    (None, 1, 1, 512)    0           ['batch_normalization_202[0][0]']\n",
            "                                                                                                  \n",
            " conv2d_203 (Conv2D)            (None, 1, 1, 512)    2359808     ['activation_187[0][0]']         \n",
            "                                                                                                  \n",
            " batch_normalization_203 (Batch  (None, 1, 1, 512)   2048        ['conv2d_203[0][0]']             \n",
            " Normalization)                                                                                   \n",
            "                                                                                                  \n",
            " activation_188 (Activation)    (None, 1, 1, 512)    0           ['batch_normalization_203[0][0]']\n",
            "                                                                                                  \n",
            " conv2d_204 (Conv2D)            (None, 1, 1, 2048)   1050624     ['activation_188[0][0]']         \n",
            "                                                                                                  \n",
            " conv2d_205 (Conv2D)            (None, 1, 1, 2048)   2099200     ['activation_186[0][0]']         \n",
            "                                                                                                  \n",
            " batch_normalization_204 (Batch  (None, 1, 1, 2048)  8192        ['conv2d_204[0][0]']             \n",
            " Normalization)                                                                                   \n",
            "                                                                                                  \n",
            " batch_normalization_205 (Batch  (None, 1, 1, 2048)  8192        ['conv2d_205[0][0]']             \n",
            " Normalization)                                                                                   \n",
            "                                                                                                  \n",
            " add_61 (Add)                   (None, 1, 1, 2048)   0           ['batch_normalization_204[0][0]',\n",
            "                                                                  'batch_normalization_205[0][0]']\n",
            "                                                                                                  \n",
            " activation_189 (Activation)    (None, 1, 1, 2048)   0           ['add_61[0][0]']                 \n",
            "                                                                                                  \n",
            " conv2d_206 (Conv2D)            (None, 1, 1, 512)    1049088     ['activation_189[0][0]']         \n",
            "                                                                                                  \n",
            " batch_normalization_206 (Batch  (None, 1, 1, 512)   2048        ['conv2d_206[0][0]']             \n",
            " Normalization)                                                                                   \n",
            "                                                                                                  \n",
            " activation_190 (Activation)    (None, 1, 1, 512)    0           ['batch_normalization_206[0][0]']\n",
            "                                                                                                  \n",
            " conv2d_207 (Conv2D)            (None, 1, 1, 512)    2359808     ['activation_190[0][0]']         \n",
            "                                                                                                  \n",
            " batch_normalization_207 (Batch  (None, 1, 1, 512)   2048        ['conv2d_207[0][0]']             \n",
            " Normalization)                                                                                   \n",
            "                                                                                                  \n",
            " activation_191 (Activation)    (None, 1, 1, 512)    0           ['batch_normalization_207[0][0]']\n",
            "                                                                                                  \n",
            " conv2d_208 (Conv2D)            (None, 1, 1, 2048)   1050624     ['activation_191[0][0]']         \n",
            "                                                                                                  \n",
            " batch_normalization_208 (Batch  (None, 1, 1, 2048)  8192        ['conv2d_208[0][0]']             \n",
            " Normalization)                                                                                   \n",
            "                                                                                                  \n",
            " add_62 (Add)                   (None, 1, 1, 2048)   0           ['batch_normalization_208[0][0]',\n",
            "                                                                  'activation_189[0][0]']         \n",
            "                                                                                                  \n",
            " activation_192 (Activation)    (None, 1, 1, 2048)   0           ['add_62[0][0]']                 \n",
            "                                                                                                  \n",
            " conv2d_209 (Conv2D)            (None, 1, 1, 512)    1049088     ['activation_192[0][0]']         \n",
            "                                                                                                  \n",
            " batch_normalization_209 (Batch  (None, 1, 1, 512)   2048        ['conv2d_209[0][0]']             \n",
            " Normalization)                                                                                   \n",
            "                                                                                                  \n",
            " activation_193 (Activation)    (None, 1, 1, 512)    0           ['batch_normalization_209[0][0]']\n",
            "                                                                                                  \n",
            " conv2d_210 (Conv2D)            (None, 1, 1, 512)    2359808     ['activation_193[0][0]']         \n",
            "                                                                                                  \n",
            " batch_normalization_210 (Batch  (None, 1, 1, 512)   2048        ['conv2d_210[0][0]']             \n",
            " Normalization)                                                                                   \n",
            "                                                                                                  \n",
            " activation_194 (Activation)    (None, 1, 1, 512)    0           ['batch_normalization_210[0][0]']\n",
            "                                                                                                  \n",
            " conv2d_211 (Conv2D)            (None, 1, 1, 2048)   1050624     ['activation_194[0][0]']         \n",
            "                                                                                                  \n",
            " batch_normalization_211 (Batch  (None, 1, 1, 2048)  8192        ['conv2d_211[0][0]']             \n",
            " Normalization)                                                                                   \n",
            "                                                                                                  \n",
            " add_63 (Add)                   (None, 1, 1, 2048)   0           ['batch_normalization_211[0][0]',\n",
            "                                                                  'activation_192[0][0]']         \n",
            "                                                                                                  \n",
            " activation_195 (Activation)    (None, 1, 1, 2048)   0           ['add_63[0][0]']                 \n",
            "                                                                                                  \n",
            " average_pooling2d_3 (AveragePo  (None, 1, 1, 2048)  0           ['activation_195[0][0]']         \n",
            " oling2D)                                                                                         \n",
            "                                                                                                  \n",
            " flatten_3 (Flatten)            (None, 2048)         0           ['average_pooling2d_3[0][0]']    \n",
            "                                                                                                  \n",
            " fc (Dense)                     (None, 10)           20490       ['flatten_3[0][0]']              \n",
            "                                                                                                  \n",
            "==================================================================================================\n",
            "Total params: 23,608,202\n",
            "Trainable params: 23,555,082\n",
            "Non-trainable params: 53,120\n",
            "__________________________________________________________________________________________________\n"
          ]
        }
      ],
      "source": [
        "model.summary()"
      ],
      "id": "c944dbd6"
    },
    {
      "cell_type": "markdown",
      "metadata": {
        "id": "dfbefa37"
      },
      "source": [
        "## Compile model"
      ],
      "id": "dfbefa37"
    },
    {
      "cell_type": "code",
      "execution_count": null,
      "metadata": {
        "id": "9f8dadd1"
      },
      "outputs": [],
      "source": [
        "loss = 'categorical_crossentropy'\n",
        "\n",
        "metrics = ['accuracy']\n",
        "\n",
        "model.compile(loss=loss, optimizer=Adam(learning_rate = 1e-3), metrics=metrics)\n",
        "\n",
        "checkpoint_loc = '/content/drive/MyDrive/CSC 559/checkpoints/' + model_name\n",
        "log_path = \"/content/drive/MyDrive/CSC 559/logs/\"\n",
        "\n",
        "# Create checkpoint directory if does not exist\n",
        "if not os.path.exists(checkpoint_loc): os.makedirs(checkpoint_loc)\n",
        "if not os.path.exists(log_path): os.makedirs(log_path)\n",
        "\n",
        "checkpoint_path = os.path.join(checkpoint_loc, 'best_model.h5')\n",
        "\n",
        "checkpoint_dir = os.path.dirname(checkpoint_path)\n",
        "\n",
        "callbacks = [\n",
        "    # tf.keras.callbacks.EarlyStopping(monitor='val_loss', patience=50, verbose=1),\n",
        "    \n",
        "    tf.keras.callbacks.ReduceLROnPlateau(factor=0.1,\n",
        "                      monitor='val_loss',\n",
        "                      patience=10,\n",
        "                      min_lr=0.00001,\n",
        "                      verbose=1,\n",
        "                      mode='auto'),\n",
        "    \n",
        "    tf.keras.callbacks.ModelCheckpoint(checkpoint_path,\n",
        "                      monitor = 'val_loss',\n",
        "                      verbose = 1,\n",
        "                      save_best_only=True,\n",
        "                      save_weights_only=True,\n",
        "                      ),\n",
        "    tf.keras.callbacks.CSVLogger(os.path.join(log_path, model_name + '.csv'), separator=',', append=True),\n",
        "]\n"
      ],
      "id": "9f8dadd1"
    },
    {
      "cell_type": "code",
      "execution_count": null,
      "metadata": {
        "id": "49748766"
      },
      "outputs": [],
      "source": [
        "# Uncomment to load the model\n",
        "# model = resnet50(input_shape=x_train.shape[1:], n_classes=n_classes)  \n",
        "# model.load_weights(checkpoint_loc + '//' + 'best_model.h5')\n",
        "# model.compile(loss=loss, optimizer=Adam(learning_rate = 1e-5), metrics=metrics)"
      ],
      "id": "49748766"
    },
    {
      "cell_type": "markdown",
      "metadata": {
        "id": "8fa95d6d"
      },
      "source": [
        "## Train model"
      ],
      "id": "8fa95d6d"
    },
    {
      "cell_type": "code",
      "execution_count": null,
      "metadata": {
        "colab": {
          "base_uri": "https://localhost:8080/"
        },
        "id": "ca9ddec7",
        "outputId": "8183cd49-58ef-470c-c359-954bf6e8d54d"
      },
      "outputs": [
        {
          "output_type": "stream",
          "name": "stdout",
          "text": [
            "Epoch 1/50\n",
            "176/176 [==============================] - ETA: 0s - loss: 2.1273 - accuracy: 0.2923\n",
            "Epoch 1: val_loss improved from inf to 2.75431, saving model to /content/drive/MyDrive/CSC 559/checkpoints/resnet50/best_model.h5\n",
            "176/176 [==============================] - 288s 2s/step - loss: 2.1273 - accuracy: 0.2923 - val_loss: 2.7543 - val_accuracy: 0.1052 - lr: 0.0010\n",
            "Epoch 2/50\n",
            " 46/176 [======>.......................] - ETA: 3:31 - loss: 1.8658 - accuracy: 0.3482"
          ]
        },
        {
          "output_type": "stream",
          "name": "stderr",
          "text": [
            "WARNING:tensorflow:Detecting that an object or model or tf.train.Checkpoint is being deleted with unrestored values. See the following logs for the specific values in question. To silence these warnings, use `status.expect_partial()`. See https://www.tensorflow.org/api_docs/python/tf/train/Checkpoint#restorefor details about the status object returned by the restore function.\n",
            "WARNING:tensorflow:Value in checkpoint could not be found in the restored object: (root).layer-1.layer-0._random_generator._generator._state_var\n",
            "WARNING:tensorflow:Value in checkpoint could not be found in the restored object: (root).layer-1.layer-1._random_generator._generator._state_var\n"
          ]
        },
        {
          "output_type": "stream",
          "name": "stdout",
          "text": [
            "176/176 [==============================] - ETA: 0s - loss: 1.9272 - accuracy: 0.3287\n",
            "Epoch 2: val_loss did not improve from 2.75431\n",
            "176/176 [==============================] - 287s 2s/step - loss: 1.9272 - accuracy: 0.3287 - val_loss: 4.6048 - val_accuracy: 0.1464 - lr: 0.0010\n",
            "Epoch 3/50\n",
            "176/176 [==============================] - ETA: 0s - loss: 1.7714 - accuracy: 0.3767\n",
            "Epoch 3: val_loss improved from 2.75431 to 2.06783, saving model to /content/drive/MyDrive/CSC 559/checkpoints/resnet50/best_model.h5\n",
            "176/176 [==============================] - 287s 2s/step - loss: 1.7714 - accuracy: 0.3767 - val_loss: 2.0678 - val_accuracy: 0.2922 - lr: 0.0010\n",
            "Epoch 4/50\n",
            "176/176 [==============================] - ETA: 0s - loss: 1.6848 - accuracy: 0.4108\n",
            "Epoch 4: val_loss improved from 2.06783 to 1.72150, saving model to /content/drive/MyDrive/CSC 559/checkpoints/resnet50/best_model.h5\n",
            "176/176 [==============================] - 287s 2s/step - loss: 1.6848 - accuracy: 0.4108 - val_loss: 1.7215 - val_accuracy: 0.3736 - lr: 0.0010\n",
            "Epoch 5/50\n",
            "176/176 [==============================] - ETA: 0s - loss: 1.6620 - accuracy: 0.4260\n",
            "Epoch 5: val_loss did not improve from 1.72150\n",
            "176/176 [==============================] - 284s 2s/step - loss: 1.6620 - accuracy: 0.4260 - val_loss: 2.1894 - val_accuracy: 0.3524 - lr: 0.0010\n",
            "Epoch 6/50\n",
            "176/176 [==============================] - ETA: 0s - loss: 1.6286 - accuracy: 0.4479\n",
            "Epoch 6: val_loss improved from 1.72150 to 1.61594, saving model to /content/drive/MyDrive/CSC 559/checkpoints/resnet50/best_model.h5\n",
            "176/176 [==============================] - 286s 2s/step - loss: 1.6286 - accuracy: 0.4479 - val_loss: 1.6159 - val_accuracy: 0.4080 - lr: 0.0010\n",
            "Epoch 7/50\n",
            "176/176 [==============================] - ETA: 0s - loss: 1.5125 - accuracy: 0.4770\n",
            "Epoch 7: val_loss did not improve from 1.61594\n",
            "176/176 [==============================] - 286s 2s/step - loss: 1.5125 - accuracy: 0.4770 - val_loss: 1.9989 - val_accuracy: 0.4294 - lr: 0.0010\n",
            "Epoch 8/50\n",
            "176/176 [==============================] - ETA: 0s - loss: 1.4449 - accuracy: 0.4905\n",
            "Epoch 8: val_loss did not improve from 1.61594\n",
            "176/176 [==============================] - 286s 2s/step - loss: 1.4449 - accuracy: 0.4905 - val_loss: 2.7718 - val_accuracy: 0.4708 - lr: 0.0010\n",
            "Epoch 9/50\n",
            "176/176 [==============================] - ETA: 0s - loss: 1.4479 - accuracy: 0.5044\n",
            "Epoch 9: val_loss did not improve from 1.61594\n",
            "176/176 [==============================] - 287s 2s/step - loss: 1.4479 - accuracy: 0.5044 - val_loss: 5.5767 - val_accuracy: 0.3394 - lr: 0.0010\n",
            "Epoch 10/50\n",
            "176/176 [==============================] - ETA: 0s - loss: 1.4690 - accuracy: 0.5022\n",
            "Epoch 10: val_loss did not improve from 1.61594\n",
            "176/176 [==============================] - 287s 2s/step - loss: 1.4690 - accuracy: 0.5022 - val_loss: 2.4810 - val_accuracy: 0.3114 - lr: 0.0010\n",
            "Epoch 11/50\n",
            "176/176 [==============================] - ETA: 0s - loss: 1.4327 - accuracy: 0.5055\n",
            "Epoch 11: val_loss did not improve from 1.61594\n",
            "176/176 [==============================] - 286s 2s/step - loss: 1.4327 - accuracy: 0.5055 - val_loss: 818.3625 - val_accuracy: 0.1024 - lr: 0.0010\n",
            "Epoch 12/50\n",
            "176/176 [==============================] - ETA: 0s - loss: 1.5410 - accuracy: 0.4855\n",
            "Epoch 12: val_loss did not improve from 1.61594\n",
            "176/176 [==============================] - 287s 2s/step - loss: 1.5410 - accuracy: 0.4855 - val_loss: 1.7383 - val_accuracy: 0.3904 - lr: 0.0010\n",
            "Epoch 13/50\n",
            "176/176 [==============================] - ETA: 0s - loss: 1.3620 - accuracy: 0.5282\n",
            "Epoch 13: val_loss did not improve from 1.61594\n",
            "176/176 [==============================] - 288s 2s/step - loss: 1.3620 - accuracy: 0.5282 - val_loss: 5.3778 - val_accuracy: 0.4674 - lr: 0.0010\n",
            "Epoch 14/50\n",
            "176/176 [==============================] - ETA: 0s - loss: 1.3346 - accuracy: 0.5466\n",
            "Epoch 14: val_loss did not improve from 1.61594\n",
            "176/176 [==============================] - 297s 2s/step - loss: 1.3346 - accuracy: 0.5466 - val_loss: 1.9409 - val_accuracy: 0.3990 - lr: 0.0010\n",
            "Epoch 15/50\n",
            "176/176 [==============================] - ETA: 0s - loss: 1.6209 - accuracy: 0.4768\n",
            "Epoch 15: val_loss did not improve from 1.61594\n",
            "176/176 [==============================] - 286s 2s/step - loss: 1.6209 - accuracy: 0.4768 - val_loss: 153.4290 - val_accuracy: 0.1444 - lr: 0.0010\n",
            "Epoch 16/50\n",
            "176/176 [==============================] - ETA: 0s - loss: 1.6685 - accuracy: 0.4473\n",
            "Epoch 16: ReduceLROnPlateau reducing learning rate to 0.00010000000474974513.\n",
            "\n",
            "Epoch 16: val_loss did not improve from 1.61594\n",
            "176/176 [==============================] - 283s 2s/step - loss: 1.6685 - accuracy: 0.4473 - val_loss: 11.3707 - val_accuracy: 0.3686 - lr: 0.0010\n",
            "Epoch 17/50\n",
            "176/176 [==============================] - ETA: 0s - loss: 1.3968 - accuracy: 0.5057\n",
            "Epoch 17: val_loss improved from 1.61594 to 1.41717, saving model to /content/drive/MyDrive/CSC 559/checkpoints/resnet50/best_model.h5\n",
            "176/176 [==============================] - 285s 2s/step - loss: 1.3968 - accuracy: 0.5057 - val_loss: 1.4172 - val_accuracy: 0.4938 - lr: 1.0000e-04\n",
            "Epoch 18/50\n",
            "176/176 [==============================] - ETA: 0s - loss: 1.3365 - accuracy: 0.5212\n",
            "Epoch 18: val_loss improved from 1.41717 to 1.35886, saving model to /content/drive/MyDrive/CSC 559/checkpoints/resnet50/best_model.h5\n",
            "176/176 [==============================] - 282s 2s/step - loss: 1.3365 - accuracy: 0.5212 - val_loss: 1.3589 - val_accuracy: 0.5118 - lr: 1.0000e-04\n",
            "Epoch 19/50\n",
            "176/176 [==============================] - ETA: 0s - loss: 1.3126 - accuracy: 0.5269\n",
            "Epoch 19: val_loss did not improve from 1.35886\n",
            "176/176 [==============================] - 283s 2s/step - loss: 1.3126 - accuracy: 0.5269 - val_loss: 1.3714 - val_accuracy: 0.5208 - lr: 1.0000e-04\n",
            "Epoch 20/50\n",
            "176/176 [==============================] - ETA: 0s - loss: 1.2921 - accuracy: 0.5371\n",
            "Epoch 20: val_loss improved from 1.35886 to 1.33782, saving model to /content/drive/MyDrive/CSC 559/checkpoints/resnet50/best_model.h5\n",
            "176/176 [==============================] - 285s 2s/step - loss: 1.2921 - accuracy: 0.5371 - val_loss: 1.3378 - val_accuracy: 0.5310 - lr: 1.0000e-04\n",
            "Epoch 21/50\n",
            "176/176 [==============================] - ETA: 0s - loss: 1.2624 - accuracy: 0.5468\n",
            "Epoch 21: val_loss did not improve from 1.33782\n",
            "176/176 [==============================] - 283s 2s/step - loss: 1.2624 - accuracy: 0.5468 - val_loss: 1.3645 - val_accuracy: 0.5346 - lr: 1.0000e-04\n",
            "Epoch 22/50\n",
            "176/176 [==============================] - ETA: 0s - loss: 1.2525 - accuracy: 0.5532\n",
            "Epoch 22: val_loss improved from 1.33782 to 1.32739, saving model to /content/drive/MyDrive/CSC 559/checkpoints/resnet50/best_model.h5\n",
            "176/176 [==============================] - 287s 2s/step - loss: 1.2525 - accuracy: 0.5532 - val_loss: 1.3274 - val_accuracy: 0.5454 - lr: 1.0000e-04\n",
            "Epoch 23/50\n",
            "176/176 [==============================] - ETA: 0s - loss: 1.2311 - accuracy: 0.5580\n",
            "Epoch 23: val_loss did not improve from 1.32739\n",
            "176/176 [==============================] - 285s 2s/step - loss: 1.2311 - accuracy: 0.5580 - val_loss: 1.3803 - val_accuracy: 0.5490 - lr: 1.0000e-04\n",
            "Epoch 24/50\n",
            "176/176 [==============================] - ETA: 0s - loss: 1.2191 - accuracy: 0.5644\n",
            "Epoch 24: val_loss improved from 1.32739 to 1.26186, saving model to /content/drive/MyDrive/CSC 559/checkpoints/resnet50/best_model.h5\n",
            "176/176 [==============================] - 285s 2s/step - loss: 1.2191 - accuracy: 0.5644 - val_loss: 1.2619 - val_accuracy: 0.5552 - lr: 1.0000e-04\n",
            "Epoch 25/50\n",
            "176/176 [==============================] - ETA: 0s - loss: 1.1995 - accuracy: 0.5706\n",
            "Epoch 25: val_loss did not improve from 1.26186\n",
            "176/176 [==============================] - 284s 2s/step - loss: 1.1995 - accuracy: 0.5706 - val_loss: 1.3035 - val_accuracy: 0.5638 - lr: 1.0000e-04\n",
            "Epoch 26/50\n",
            "176/176 [==============================] - ETA: 0s - loss: 1.1910 - accuracy: 0.5742\n",
            "Epoch 26: val_loss improved from 1.26186 to 1.24284, saving model to /content/drive/MyDrive/CSC 559/checkpoints/resnet50/best_model.h5\n",
            "176/176 [==============================] - 287s 2s/step - loss: 1.1910 - accuracy: 0.5742 - val_loss: 1.2428 - val_accuracy: 0.5752 - lr: 1.0000e-04\n",
            "Epoch 27/50\n",
            "176/176 [==============================] - ETA: 0s - loss: 1.1718 - accuracy: 0.5794\n",
            "Epoch 27: val_loss did not improve from 1.24284\n",
            "176/176 [==============================] - 285s 2s/step - loss: 1.1718 - accuracy: 0.5794 - val_loss: 1.4869 - val_accuracy: 0.5682 - lr: 1.0000e-04\n",
            "Epoch 28/50\n",
            "176/176 [==============================] - ETA: 0s - loss: 1.1610 - accuracy: 0.5853\n",
            "Epoch 28: val_loss improved from 1.24284 to 1.22751, saving model to /content/drive/MyDrive/CSC 559/checkpoints/resnet50/best_model.h5\n",
            "176/176 [==============================] - 286s 2s/step - loss: 1.1610 - accuracy: 0.5853 - val_loss: 1.2275 - val_accuracy: 0.5826 - lr: 1.0000e-04\n",
            "Epoch 29/50\n",
            "176/176 [==============================] - ETA: 0s - loss: 1.1454 - accuracy: 0.5914\n",
            "Epoch 29: val_loss did not improve from 1.22751\n",
            "176/176 [==============================] - 284s 2s/step - loss: 1.1454 - accuracy: 0.5914 - val_loss: 1.4053 - val_accuracy: 0.5574 - lr: 1.0000e-04\n",
            "Epoch 30/50\n",
            "176/176 [==============================] - ETA: 0s - loss: 1.1374 - accuracy: 0.5962\n",
            "Epoch 30: val_loss did not improve from 1.22751\n",
            "176/176 [==============================] - 284s 2s/step - loss: 1.1374 - accuracy: 0.5962 - val_loss: 1.2310 - val_accuracy: 0.5808 - lr: 1.0000e-04\n",
            "Epoch 31/50\n",
            "176/176 [==============================] - ETA: 0s - loss: 1.1240 - accuracy: 0.6016\n",
            "Epoch 31: val_loss did not improve from 1.22751\n",
            "176/176 [==============================] - 283s 2s/step - loss: 1.1240 - accuracy: 0.6016 - val_loss: 1.3344 - val_accuracy: 0.5650 - lr: 1.0000e-04\n",
            "Epoch 32/50\n",
            "176/176 [==============================] - ETA: 0s - loss: 1.1078 - accuracy: 0.6054\n",
            "Epoch 32: val_loss did not improve from 1.22751\n",
            "176/176 [==============================] - 283s 2s/step - loss: 1.1078 - accuracy: 0.6054 - val_loss: 1.2836 - val_accuracy: 0.5982 - lr: 1.0000e-04\n",
            "Epoch 33/50\n",
            "176/176 [==============================] - ETA: 0s - loss: 1.1020 - accuracy: 0.6093\n",
            "Epoch 33: val_loss improved from 1.22751 to 1.16950, saving model to /content/drive/MyDrive/CSC 559/checkpoints/resnet50/best_model.h5\n",
            "176/176 [==============================] - 283s 2s/step - loss: 1.1020 - accuracy: 0.6093 - val_loss: 1.1695 - val_accuracy: 0.5890 - lr: 1.0000e-04\n",
            "Epoch 34/50\n",
            "176/176 [==============================] - ETA: 0s - loss: 1.0873 - accuracy: 0.6132\n",
            "Epoch 34: val_loss did not improve from 1.16950\n",
            "176/176 [==============================] - 283s 2s/step - loss: 1.0873 - accuracy: 0.6132 - val_loss: 1.3196 - val_accuracy: 0.5774 - lr: 1.0000e-04\n",
            "Epoch 35/50\n",
            "176/176 [==============================] - ETA: 0s - loss: 1.0781 - accuracy: 0.6171\n",
            "Epoch 35: val_loss did not improve from 1.16950\n",
            "176/176 [==============================] - 283s 2s/step - loss: 1.0781 - accuracy: 0.6171 - val_loss: 1.2710 - val_accuracy: 0.5930 - lr: 1.0000e-04\n",
            "Epoch 36/50\n",
            "176/176 [==============================] - ETA: 0s - loss: 1.0572 - accuracy: 0.6234\n",
            "Epoch 36: val_loss improved from 1.16950 to 1.15219, saving model to /content/drive/MyDrive/CSC 559/checkpoints/resnet50/best_model.h5\n",
            "176/176 [==============================] - 285s 2s/step - loss: 1.0572 - accuracy: 0.6234 - val_loss: 1.1522 - val_accuracy: 0.5924 - lr: 1.0000e-04\n",
            "Epoch 37/50\n",
            "176/176 [==============================] - ETA: 0s - loss: 1.0531 - accuracy: 0.6240\n",
            "Epoch 37: val_loss did not improve from 1.15219\n",
            "176/176 [==============================] - 280s 2s/step - loss: 1.0531 - accuracy: 0.6240 - val_loss: 1.1657 - val_accuracy: 0.5972 - lr: 1.0000e-04\n",
            "Epoch 38/50\n",
            "176/176 [==============================] - ETA: 0s - loss: 1.0454 - accuracy: 0.6294\n",
            "Epoch 38: val_loss did not improve from 1.15219\n",
            "176/176 [==============================] - 281s 2s/step - loss: 1.0454 - accuracy: 0.6294 - val_loss: 1.2654 - val_accuracy: 0.5970 - lr: 1.0000e-04\n",
            "Epoch 39/50\n",
            "176/176 [==============================] - ETA: 0s - loss: 1.0290 - accuracy: 0.6326\n",
            "Epoch 39: val_loss did not improve from 1.15219\n",
            "176/176 [==============================] - 282s 2s/step - loss: 1.0290 - accuracy: 0.6326 - val_loss: 1.2783 - val_accuracy: 0.6042 - lr: 1.0000e-04\n",
            "Epoch 40/50\n",
            "176/176 [==============================] - ETA: 0s - loss: 1.0175 - accuracy: 0.6377\n",
            "Epoch 40: val_loss did not improve from 1.15219\n",
            "176/176 [==============================] - 281s 2s/step - loss: 1.0175 - accuracy: 0.6377 - val_loss: 1.1775 - val_accuracy: 0.6166 - lr: 1.0000e-04\n",
            "Epoch 41/50\n",
            "176/176 [==============================] - ETA: 0s - loss: 1.0119 - accuracy: 0.6400\n",
            "Epoch 41: val_loss did not improve from 1.15219\n",
            "176/176 [==============================] - 282s 2s/step - loss: 1.0119 - accuracy: 0.6400 - val_loss: 1.2231 - val_accuracy: 0.5912 - lr: 1.0000e-04\n",
            "Epoch 42/50\n",
            "176/176 [==============================] - ETA: 0s - loss: 1.0077 - accuracy: 0.6412\n",
            "Epoch 42: val_loss did not improve from 1.15219\n",
            "176/176 [==============================] - 282s 2s/step - loss: 1.0077 - accuracy: 0.6412 - val_loss: 1.2597 - val_accuracy: 0.6146 - lr: 1.0000e-04\n",
            "Epoch 43/50\n",
            "176/176 [==============================] - ETA: 0s - loss: 0.9933 - accuracy: 0.6442\n",
            "Epoch 43: val_loss did not improve from 1.15219\n",
            "176/176 [==============================] - 280s 2s/step - loss: 0.9933 - accuracy: 0.6442 - val_loss: 1.2876 - val_accuracy: 0.5968 - lr: 1.0000e-04\n",
            "Epoch 44/50\n",
            "176/176 [==============================] - ETA: 0s - loss: 0.9816 - accuracy: 0.6499\n",
            "Epoch 44: val_loss did not improve from 1.15219\n",
            "176/176 [==============================] - 281s 2s/step - loss: 0.9816 - accuracy: 0.6499 - val_loss: 1.2051 - val_accuracy: 0.6142 - lr: 1.0000e-04\n",
            "Epoch 45/50\n",
            "176/176 [==============================] - ETA: 0s - loss: 0.9672 - accuracy: 0.6546\n",
            "Epoch 45: val_loss did not improve from 1.15219\n",
            "176/176 [==============================] - 281s 2s/step - loss: 0.9672 - accuracy: 0.6546 - val_loss: 1.9398 - val_accuracy: 0.5898 - lr: 1.0000e-04\n",
            "Epoch 46/50\n",
            "176/176 [==============================] - ETA: 0s - loss: 0.9599 - accuracy: 0.6582\n",
            "Epoch 46: ReduceLROnPlateau reducing learning rate to 1.0000000474974514e-05.\n",
            "\n",
            "Epoch 46: val_loss did not improve from 1.15219\n",
            "176/176 [==============================] - 280s 2s/step - loss: 0.9599 - accuracy: 0.6582 - val_loss: 1.3642 - val_accuracy: 0.6078 - lr: 1.0000e-04\n",
            "Epoch 47/50\n",
            "176/176 [==============================] - ETA: 0s - loss: 0.9158 - accuracy: 0.6748\n",
            "Epoch 47: val_loss did not improve from 1.15219\n",
            "176/176 [==============================] - 281s 2s/step - loss: 0.9158 - accuracy: 0.6748 - val_loss: 1.1810 - val_accuracy: 0.6246 - lr: 1.0000e-05\n",
            "Epoch 48/50\n",
            "176/176 [==============================] - ETA: 0s - loss: 0.9027 - accuracy: 0.6749\n",
            "Epoch 48: val_loss did not improve from 1.15219\n",
            "176/176 [==============================] - 282s 2s/step - loss: 0.9027 - accuracy: 0.6749 - val_loss: 1.2109 - val_accuracy: 0.6232 - lr: 1.0000e-05\n",
            "Epoch 49/50\n",
            "176/176 [==============================] - ETA: 0s - loss: 0.8953 - accuracy: 0.6797\n",
            "Epoch 49: val_loss did not improve from 1.15219\n",
            "176/176 [==============================] - 280s 2s/step - loss: 0.8953 - accuracy: 0.6797 - val_loss: 1.2318 - val_accuracy: 0.6256 - lr: 1.0000e-05\n",
            "Epoch 50/50\n",
            "176/176 [==============================] - ETA: 0s - loss: 0.8927 - accuracy: 0.6814\n",
            "Epoch 50: val_loss did not improve from 1.15219\n",
            "176/176 [==============================] - 280s 2s/step - loss: 0.8927 - accuracy: 0.6814 - val_loss: 1.2502 - val_accuracy: 0.6176 - lr: 1.0000e-05\n"
          ]
        }
      ],
      "source": [
        "history = model.fit(x=x_train,\n",
        "                    y=y_train,\n",
        "                    batch_size=256,\n",
        "                    epochs=50,\n",
        "                    validation_data=(x_val, y_val),\n",
        "                    verbose=1,\n",
        "                    callbacks=callbacks,\n",
        "                    shuffle = True,  \n",
        "                    )"
      ],
      "id": "ca9ddec7"
    },
    {
      "cell_type": "code",
      "source": [
        "# Save model\n",
        "model.save(\"/content/drive/MyDrive/CSC 559/checkpoints/last_model\")"
      ],
      "metadata": {
        "colab": {
          "base_uri": "https://localhost:8080/"
        },
        "id": "fXsVS3brAkTW",
        "outputId": "a6ca7c2b-bca9-4131-d967-5d3d7bf0edbe"
      },
      "id": "fXsVS3brAkTW",
      "execution_count": null,
      "outputs": [
        {
          "output_type": "stream",
          "name": "stderr",
          "text": [
            "WARNING:absl:Found untraced functions such as _jit_compiled_convolution_op, _jit_compiled_convolution_op, _jit_compiled_convolution_op, _jit_compiled_convolution_op, _jit_compiled_convolution_op while saving (showing 5 of 53). These functions will not be directly callable after loading.\n"
          ]
        }
      ]
    },
    {
      "cell_type": "markdown",
      "metadata": {
        "id": "289542a4"
      },
      "source": [
        "## Plot loss and accuracy curve"
      ],
      "id": "289542a4"
    },
    {
      "cell_type": "code",
      "execution_count": null,
      "metadata": {
        "colab": {
          "base_uri": "https://localhost:8080/",
          "height": 350
        },
        "id": "5f30a2e7",
        "outputId": "3ccc0f20-2e97-4e03-de3e-f715748bf2a8"
      },
      "outputs": [
        {
          "output_type": "display_data",
          "data": {
            "text/plain": [
              "<Figure size 720x360 with 2 Axes>"
            ],
            "image/png": "[encoded data removed]"
          },
          "metadata": {
            "needs_background": "light"
          }
        }
      ],
      "source": [
        "save_fig_dir = \"/content/drive/MyDrive/CSC 559/plots/\"\n",
        "if not os.path.exists(save_fig_dir): os.makedirs(save_fig_dir)\n",
        "\n",
        "fig, ax = plt.subplots(1,2, figsize=(10,5))\n",
        "history_dict = history.history\n",
        "\n",
        "# Plot loss curve\n",
        "loss_values = history_dict[\"loss\"]\n",
        "val_loss_values = history_dict[\"val_loss\"]\n",
        "epochs = range(1, len(loss_values) + 1)\n",
        "ax[0].plot(epochs, loss_values, \"r\", label=\"Training loss\")\n",
        "ax[0].plot(epochs, val_loss_values, \"b\", label=\"Validation loss\")\n",
        "ax[0].set_title(\"Loss curve\")\n",
        "ax[0].set_xlabel(\"Epochs\")\n",
        "ax[0].set_ylabel(\"Loss\")\n",
        "ax[0].legend()\n",
        "\n",
        "# Plot accuracy curve\n",
        "acc_train = history_dict[\"accuracy\"]\n",
        "acc_val = history_dict[\"val_accuracy\"]\n",
        "ax[1].plot(epochs, acc_train, \"r\", label=\"Training accuracy\")\n",
        "ax[1].plot(epochs, acc_val, \"b\", label=\"Validation accuracy\")\n",
        "ax[1].set_title(\"Accuracy curve\")\n",
        "ax[1].set_xlabel(\"Epochs\")\n",
        "ax[1].set_ylabel(\"accuracy\")\n",
        "ax[1].legend()\n",
        "\n",
        "fig.savefig(os.path.join(save_fig_dir, model_name + '_onehot' + '.png'))    "
      ],
      "id": "5f30a2e7"
    },
    {
      "cell_type": "markdown",
      "metadata": {
        "id": "989bf07f"
      },
      "source": [
        "## Load model"
      ],
      "id": "989bf07f"
    },
    {
      "cell_type": "code",
      "execution_count": null,
      "metadata": {
        "id": "068fbd17"
      },
      "outputs": [],
      "source": [
        "# Uncomment to load the model\n",
        "# model = resnet50(input_shape=x_train.shape[1:], n_classes=n_classes)  \n",
        "# model.load_weights(checkpoint_loc + '//' + 'best_model.h5') \n",
        "# model.compile(loss=loss, optimizer=Adam(learning_rate = 1e-5), metrics=metrics)\n",
        "\n",
        "# model = load_model(\"last_model\")"
      ],
      "id": "068fbd17"
    },
    {
      "cell_type": "code",
      "execution_count": null,
      "metadata": {
        "id": "XCQSEtL2hB3i",
        "colab": {
          "base_uri": "https://localhost:8080/"
        },
        "outputId": "1b18299b-0f6e-40c5-b1bb-70916aa03a9a"
      },
      "outputs": [
        {
          "output_type": "stream",
          "name": "stdout",
          "text": [
            "\r  1/313 [..............................] - ETA: 25s - loss: 0.5793 - accuracy: 0.7812"
          ]
        },
        {
          "output_type": "stream",
          "name": "stderr",
          "text": [
            "/usr/local/lib/python3.8/dist-packages/tensorflow/python/data/ops/structured_function.py:264: UserWarning: Even though the `tf.config.experimental_run_functions_eagerly` option is set, this option does not apply to tf.data functions. To force eager execution of tf.data functions, please use `tf.data.experimental.enable_debug_mode()`.\n",
            "  warnings.warn(\n"
          ]
        },
        {
          "output_type": "stream",
          "name": "stdout",
          "text": [
            "313/313 [==============================] - 24s 75ms/step - loss: 1.2278 - accuracy: 0.6189\n",
            "Test loss: 1.2277989387512207\n",
            "Test accuracy: 0.6189000010490417\n"
          ]
        }
      ],
      "source": [
        "# tf.config.run_functions_eagerly(True)\n",
        "score = model.evaluate(x_test, y_test_onehot, verbose=1) \n",
        "\n",
        "print('Test loss:', score[0]) \n",
        "print('Test accuracy:', score[1])"
      ],
      "id": "XCQSEtL2hB3i"
    },
    {
      "cell_type": "code",
      "execution_count": null,
      "metadata": {
        "id": "3c0c5ab2"
      },
      "outputs": [],
      "source": [
        "# y_pred_raw = model.predict(x_test)\n",
        "# y_pred= [np.argmax(element) for element in y_pred_raw]\n",
        "\n",
        "# print(\"Classification Report: \\n\", classification_report(y_test, y_pred))"
      ],
      "id": "3c0c5ab2"
    },
    {
      "cell_type": "code",
      "execution_count": null,
      "metadata": {
        "id": "bKv-81yIionF",
        "colab": {
          "base_uri": "https://localhost:8080/"
        },
        "outputId": "bc877fbf-3768-46e9-a917-9ab95823e93c"
      },
      "outputs": [
        {
          "output_type": "stream",
          "name": "stdout",
          "text": [
            "313/313 [==============================] - 19s 62ms/step\n"
          ]
        }
      ],
      "source": [
        "# Prediction\n",
        "prediction = model.predict(x_test)"
      ],
      "id": "bKv-81yIionF"
    },
    {
      "cell_type": "code",
      "source": [
        "pred = np.argmax(prediction, axis = 1)"
      ],
      "metadata": {
        "id": "BbiPWiHY-p6C"
      },
      "id": "BbiPWiHY-p6C",
      "execution_count": null,
      "outputs": []
    },
    {
      "cell_type": "code",
      "source": [
        "# Create confusion matrix\n",
        "conf_mat = confusion_matrix(y_test, pred)\n",
        "print(conf_mat)"
      ],
      "metadata": {
        "colab": {
          "base_uri": "https://localhost:8080/"
        },
        "id": "fKqpErDi-wqU",
        "outputId": "6ae75a32-8e14-4f0e-a939-b118d24a8d55"
      },
      "id": "fKqpErDi-wqU",
      "execution_count": null,
      "outputs": [
        {
          "output_type": "stream",
          "name": "stdout",
          "text": [
            "[[772  27  29   8  14   5   8  15  69  53]\n",
            " [ 18 715   4   8   3   6  19  12  28 187]\n",
            " [121  22 388  37 128  52 124  74  27  27]\n",
            " [ 30  26  36 322  73 167 160  86  29  71]\n",
            " [ 43   6  80  18 542  25 144 115  11  16]\n",
            " [ 26  18  27 127  54 499  73 101  26  49]\n",
            " [  6   9  27  27  49  22 804  16   7  33]\n",
            " [ 38  12  11  34  56  56  43 678  11  61]\n",
            " [115  55  10   9   8  15   6   3 717  62]\n",
            " [ 44 121   5   9   5   5  17  27  15 752]]\n"
          ]
        }
      ]
    },
    {
      "cell_type": "code",
      "source": [
        "# Pandas view of confusion matrix\n",
        "df = pd.DataFrame(conf_mat, index = class_names, columns = class_names)\n",
        "print(df)"
      ],
      "metadata": {
        "colab": {
          "base_uri": "https://localhost:8080/"
        },
        "id": "pjssofrJ_U_G",
        "outputId": "977d46ea-b600-446e-d3db-64f3b487af35"
      },
      "id": "pjssofrJ_U_G",
      "execution_count": null,
      "outputs": [
        {
          "output_type": "stream",
          "name": "stdout",
          "text": [
            "            airplane  automobile  bird  cat  deer  dog  frog  horse  ship  \\\n",
            "airplane         772          27    29    8    14    5     8     15    69   \n",
            "automobile        18         715     4    8     3    6    19     12    28   \n",
            "bird             121          22   388   37   128   52   124     74    27   \n",
            "cat               30          26    36  322    73  167   160     86    29   \n",
            "deer              43           6    80   18   542   25   144    115    11   \n",
            "dog               26          18    27  127    54  499    73    101    26   \n",
            "frog               6           9    27   27    49   22   804     16     7   \n",
            "horse             38          12    11   34    56   56    43    678    11   \n",
            "ship             115          55    10    9     8   15     6      3   717   \n",
            "truck             44         121     5    9     5    5    17     27    15   \n",
            "\n",
            "            truck  \n",
            "airplane       53  \n",
            "automobile    187  \n",
            "bird           27  \n",
            "cat            71  \n",
            "deer           16  \n",
            "dog            49  \n",
            "frog           33  \n",
            "horse          61  \n",
            "ship           62  \n",
            "truck         752  \n"
          ]
        }
      ]
    },
    {
      "cell_type": "code",
      "source": [
        "import scipy.io as sio\n",
        "sio.savemat(\"/content/drive/MyDrive/CSC 559/result.mat\", {'y':y_test, 'p': pred}, do_compression=True)\n",
        "\n"
      ],
      "metadata": {
        "id": "7PCkAaEl6q58"
      },
      "id": "7PCkAaEl6q58",
      "execution_count": null,
      "outputs": []
    },
    {
      "cell_type": "code",
      "source": [],
      "metadata": {
        "id": "l3T375yd8Fnj"
      },
      "id": "l3T375yd8Fnj",
      "execution_count": null,
      "outputs": []
    }
  ],
  "metadata": {
    "accelerator": "GPU",
    "colab": {
      "provenance": [],
      "include_colab_link": true
    },
    "gpuClass": "standard",
    "kernelspec": {
      "display_name": "Python 3",
      "name": "python3"
    },
    "language_info": {
      "name": "python"
    },
    "toc": {
      "base_numbering": 1,
      "nav_menu": {},
      "number_sections": true,
      "sideBar": true,
      "skip_h1_title": false,
      "title_cell": "Table of Contents",
      "title_sidebar": "Contents",
      "toc_cell": false,
      "toc_position": {},
      "toc_section_display": true,
      "toc_window_display": false
    }
  },
  "nbformat": 4,
  "nbformat_minor": 5
}